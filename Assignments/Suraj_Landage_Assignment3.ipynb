{
  "nbformat": 4,
  "nbformat_minor": 0,
  "metadata": {
    "colab": {
      "name": "Suraj_Landage_Assignment3.ipynb",
      "provenance": []
    },
    "kernelspec": {
      "display_name": "Python 3",
      "name": "python3"
    },
    "language_info": {
      "name": "python"
    }
  },
  "cells": [
    {
      "cell_type": "markdown",
      "metadata": {
        "id": "KI06BTXgyP_d"
      },
      "source": [
        "##Assignment 3\n",
        "\n",
        "#Magic 8-ball program\n",
        "\n",
        "Create a Python project of a Magic 8 Ball which is a toy used for fortune-telling or seeking advice.\n",
        "\n",
        "Note :\n",
        "\n",
        "- Allow the user to input their question.\n",
        "- Create a list with 10/20 responses, and show a random response.\n",
        "- Allow the user to ask another question/advice or quit the game.\n",
        "\n",
        "Hint: Import random module, then use random.randint(0,num_responses-1) to generate random number between 0 and last index of list that contains responses. Then print response on that particular index.\n",
        "\n",
        "Magic 8-Ball - Wikipedia\n",
        "https://en.wikipedia.org/wiki/Magic_8-Ball#Possible_ans"
      ]
    },
    {
      "cell_type": "code",
      "metadata": {
        "colab": {
          "base_uri": "https://localhost:8080/"
        },
        "id": "GWaYHd1LykDi",
        "outputId": "d1003c39-8ff2-48e6-f5a5-98e47da3af19"
      },
      "source": [
        "#Magic 8 ball Game\n",
        "\n",
        "import random\n",
        "responses = ['It is certain', \n",
        "             'It is decidedly so', \n",
        "             'Without a doubt', \n",
        "             'Yes – definitely', \n",
        "             'You may rely on it', \n",
        "             'As I see it, yes', \n",
        "             'Most likely', \n",
        "             'Outlook good', \n",
        "             'Yes Signs point to yes', \n",
        "             'Reply hazy', 'try again', \n",
        "             'Ask again later', \n",
        "             'Better not tell you now', \n",
        "             'Cannot predict now', \n",
        "             'Concentrate and ask again', \n",
        "             'Dont count on it', \n",
        "             'My reply is no', \n",
        "             'My sources say no', \n",
        "             'Outlook not so good', \n",
        "             'Very doubtful']\n",
        "\n",
        "print('  __  __          _____ _____ _____    ___  ')\n",
        "print(' |  \\/  |   /\\   / ____|_   _/ ____|  / _ \\ ')\n",
        "print(' | \\  / |  /  \\ | |  __  | || |      | (_) |')\n",
        "print(' | |\\/| | / /\\ \\| | |_ | | || |       > _ < ')\n",
        "print(' | |  | |/ ____ \\ |__| |_| || |____  | (_) |')\n",
        "print(' |_|  |_/_/    \\_\\_____|_____\\_____|  \\___/ ')\n",
        "print('')\n",
        "print('')\n",
        "print('')\n",
        "\n",
        "name = input(\"Hello World, I am the Magic 8 Ball\\nWhat is your name? \")        \n",
        "print(\"Hello \" + name + \"!\")\n",
        "\n",
        "def Magic8Ball():\n",
        "    print(\"\")\n",
        "    input(\"Ask me a question.: \")\n",
        "    print(\"\")\n",
        "    print(\"The Magic 8 Ball says:\",responses[random.randint(0, len(responses)-1)] )\n",
        "    print(\"================================================\")\n",
        "    print(\"\") \n",
        "    print(\"I hope that helped!\")\n",
        "    Replay()\n",
        "    \n",
        "\n",
        "def Replay():\n",
        "    reply = input(\"Do you have another question? [Y/N] : \")\n",
        "    if reply == \"y\":\n",
        "        Magic8Ball()\n",
        "    elif reply == \"n\":\n",
        "        exit()\n",
        "    else:\n",
        "        print(\"I apologies, I did not catch that. Please repeat.\")\n",
        "        Replay()\n",
        "\n",
        "\t\t\n",
        "Magic8Ball()"
      ],
      "execution_count": 1,
      "outputs": [
        {
          "output_type": "stream",
          "text": [
            "  __  __          _____ _____ _____    ___  \n",
            " |  \\/  |   /\\   / ____|_   _/ ____|  / _ \\ \n",
            " | \\  / |  /  \\ | |  __  | || |      | (_) |\n",
            " | |\\/| | / /\\ \\| | |_ | | || |       > _ < \n",
            " | |  | |/ ____ \\ |__| |_| || |____  | (_) |\n",
            " |_|  |_/_/    \\_\\_____|_____\\_____|  \\___/ \n",
            "\n",
            "\n",
            "\n",
            "Hello World, I am the Magic 8 Ball\n",
            "What is your name? Suraj\n",
            "Hello Suraj!\n",
            "\n",
            "Ask me a question.: How is my code?\n",
            "\n",
            "The Magic 8 Ball says: Better not tell you now\n",
            "================================================\n",
            "\n",
            "I hope that helped!\n",
            "Do you have another question? [Y/N] : y\n",
            "\n",
            "Ask me a question.: Okay\n",
            "\n",
            "The Magic 8 Ball says: Cannot predict now\n",
            "================================================\n",
            "\n",
            "I hope that helped!\n",
            "Do you have another question? [Y/N] : n\n"
          ],
          "name": "stdout"
        }
      ]
    }
  ]
}