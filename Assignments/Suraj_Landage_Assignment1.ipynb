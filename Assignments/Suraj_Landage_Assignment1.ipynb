{
  "nbformat": 4,
  "nbformat_minor": 0,
  "metadata": {
    "colab": {
      "name": "Python Bootcamp - Upskill-day2 - Assignment 1.ipynb",
      "provenance": []
    },
    "kernelspec": {
      "name": "python3",
      "display_name": "Python 3"
    },
    "language_info": {
      "name": "python"
    }
  },
  "cells": [
    {
      "cell_type": "markdown",
      "metadata": {
        "id": "4KJusQPERJY2"
      },
      "source": [
        "Pattern Program to print\n",
        "\n",
        "```\n",
        "1\n",
        "2 2\n",
        "3 3 3 \n",
        "4 4 4 4\n",
        "5 5 5 5 5\n",
        "```\n",
        "\n",
        "\n",
        "\n"
      ]
    },
    {
      "cell_type": "code",
      "metadata": {
        "colab": {
          "base_uri": "https://localhost:8080/"
        },
        "id": "QrgO6cVoRtsI",
        "outputId": "a6494cc1-36e0-48c8-e33e-05f3db812d0b"
      },
      "source": [
        "rows = 6\n",
        "\n",
        "for num in range(rows):\n",
        "\n",
        "    for i in range(num):\n",
        "\n",
        "        print(num, end = \" \") #print number\n",
        "\n",
        "    # line after each row to display pattern correctly\n",
        "\n",
        "    print(\" \")"
      ],
      "execution_count": 1,
      "outputs": [
        {
          "output_type": "stream",
          "text": [
            " \n",
            "1  \n",
            "2 2  \n",
            "3 3 3  \n",
            "4 4 4 4  \n",
            "5 5 5 5 5  \n"
          ],
          "name": "stdout"
        }
      ]
    },
    {
      "cell_type": "markdown",
      "metadata": {
        "id": "URqvEUXMShj5"
      },
      "source": [
        "Assignment 1:\n",
        "\n",
        "Make a simple calculator using Selection statements in Python ( if , else , elif). The calculator will have 4 operations :- Addition, Subtraction, Multiplication and Division. \n",
        "\n",
        "Ask the user for the numbers and the operation and then display the output."
      ]
    },
    {
      "cell_type": "code",
      "metadata": {
        "colab": {
          "base_uri": "https://localhost:8080/"
        },
        "id": "AiUYLqd4TgQp",
        "outputId": "3a6819d8-9aba-4f39-8213-550c69b23187"
      },
      "source": [
        "# Program to make a simple calculator \n",
        "\n",
        "#Function to add two numbers\n",
        "def add(num1, num2):\n",
        "    return num1 + num2\n",
        "\n",
        "#Function to subtracts two numbers \n",
        "def subtract(num1, num2):\n",
        "    return num1 - num2\n",
        "\n",
        "#Function to multiply two numbers \n",
        "def multiply(num1, num2):\n",
        "    return num1 * num2\n",
        "\n",
        "#Function to divide two numbers \n",
        "def divide(num1, num2):\n",
        "    return num1 / num2\n",
        "\n",
        "print(\"Please select the operation -\\n\" \\\n",
        "      \"1. Add\\n\" \\\n",
        "      \"2. Subtarct\\n\" \\\n",
        "      \"3. Multiply\\n\" \\\n",
        "      \"4. Divide\\n\")\n",
        "\n",
        "#take input from the user\n",
        "select = int(input(\"Select operations from 1, 2, 3, 4 : \"))\n",
        "\n",
        "num1 = int(input(\"Enter first number: \"))\n",
        "num2 = int(input(\"Enter second number: \"))\n",
        "\n",
        "if select == 1:\n",
        "   print(num1, \"+\", num2, \"=\", add(num1, num2))\n",
        "\n",
        "elif select == 2:\n",
        "     print(num1, \"-\", num2, \"=\", subtract(num1, num2))\n",
        "\n",
        "elif select == 3:\n",
        "     print(num1, \"*\", num2, \"=\", multiply(num1, num2))\n",
        "\n",
        "elif select == 4:\n",
        "      if num2 > 0: \n",
        "          print(num1, \"/\", num2, \"=\", divide(num1, num2))\n",
        "      else:\n",
        "          print(\"Divisor can not be zero\")\n",
        "else:\n",
        "     print(\"Invalide input\")"
      ],
      "execution_count": 16,
      "outputs": [
        {
          "output_type": "stream",
          "text": [
            "Please select the operation -\n",
            "1. Add\n",
            "2. Subtarct\n",
            "3. Multiply\n",
            "4. Divide\n",
            "\n",
            "Select operations from 1, 2, 3, 4 : 1\n",
            "Enter first number: 12\n",
            "Enter second number: 12\n",
            "12 + 12 = 24\n"
          ],
          "name": "stdout"
        }
      ]
    }
  ]
}