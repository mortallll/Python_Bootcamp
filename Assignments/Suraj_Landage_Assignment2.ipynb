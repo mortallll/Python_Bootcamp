{
  "nbformat": 4,
  "nbformat_minor": 0,
  "metadata": {
    "colab": {
      "name": "Suraj_Landage_Assignment-2.ipynb",
      "provenance": []
    },
    "kernelspec": {
      "name": "python3",
      "display_name": "Python 3"
    },
    "language_info": {
      "name": "python"
    }
  },
  "cells": [
    {
      "cell_type": "markdown",
      "metadata": {
        "id": "iFmOtvvHkgiI"
      },
      "source": [
        "##Assignment 2\n",
        "\n",
        "Write a python program to print a Collatz Sequence using loop as well as recursion\n",
        "\n",
        "#**Collatz Sequence**\n",
        "\n",
        "Starting with any positive integer N, Collatz sequence is defined corresponding to n as the numbers formed by the following operations :\n",
        "\n",
        "1. If n is even, then n = n / 2.\n",
        "2. If n is odd, then n = 3*n + 1.\n",
        "3. Repeat above steps, until it becomes 1.\n",
        "\n",
        "Example\n",
        "\n",
        "Input : 3\n",
        "\n",
        "Output : 3, 10, 5, 16, 8, 4, 2, 1\n",
        "\n",
        "Do try with multiple inputs to see how no matter the number you choose to start with, the series ends with 1.\n",
        "\n",
        "PS. Try to make this program using iteration (loops) as well as recursion. Note the differences between both the implementations.\n"
      ]
    },
    {
      "cell_type": "code",
      "metadata": {
        "colab": {
          "base_uri": "https://localhost:8080/"
        },
        "id": "AhEENgOJlTMD",
        "outputId": "7921c4af-3aa9-49e8-ecc8-bf1344f31e5b"
      },
      "source": [
        "# Collatz sequence\n",
        "\n",
        "def CollatzSeq(n):\n",
        "    while n != 1:\n",
        "        print(n, end = \" \")\n",
        " \n",
        "        if (n % 2):         # if n is odd\n",
        "            n = 3 * n + 1\n",
        "        else:\n",
        "            n = n // 2      # if n is even\n",
        "\n",
        "    print(n)   \n",
        "\n",
        "n = int(input(\"Enter any number: \"))\n",
        "print(\"Sequence:\", end = \" \")\n",
        "\n",
        "CollatzSeq(n)"
      ],
      "execution_count": 61,
      "outputs": [
        {
          "output_type": "stream",
          "text": [
            "Enter any number: 3\n",
            "Sequence: 3 10 5 16 8 4 2 1\n"
          ],
          "name": "stdout"
        }
      ]
    }
  ]
}