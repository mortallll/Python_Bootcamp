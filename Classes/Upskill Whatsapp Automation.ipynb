{
 "cells": [
  {
   "cell_type": "markdown",
   "metadata": {},
   "source": [
    "# Whatsapp Automation Using Selenium\n",
    "\n",
    "Selenium automates web browsers. It is most famous for enabling rapid, repeatable web-app testing, which allows developers to ship new releases faster and with confidence.\n",
    "\n",
    "## Selenium Webdriver\n",
    "\n",
    "Selenium Webdriver is the parent of all methods and classes used in Selenium Python. It is the driving force of Selenium that allows us to perform various operations on multiple elements on a webpage. Driver has various methods and attributes one can use to automate testing in Selenium Python. To check how to use webdriver, visit – Web Driver in Selenium Python .\n",
    "\n",
    "[**Link to Selenium Documentation**](https://www.selenium.dev/documentation/en/)\n",
    "\n",
    "In order to open our browser instance, we need to get our browser's drivers and specify it as an argument to our webdriver.\n",
    "*   [Chrome Webdriver](https://chromedriver.chromium.org/downloads)\n",
    "*   [Firefox Webdriver](https://github.com/mozilla/geckodriver/releases/)"
   ]
  },
  {
   "cell_type": "code",
   "execution_count": 8,
   "metadata": {},
   "outputs": [],
   "source": [
    "#import libraries\n",
    "from selenium import webdriver #to open instance of a browser\n",
    "from selenium.webdriver.support.ui import WebDriverWait #For the WebDriverWait method that waits before performing further instructions, only required in script environment to wait while you scan qr code to login.\n",
    "from selenium.webdriver.support import expected_conditions as EC #for wait.until expected conditions i.e. Xpath from a span target is found\n",
    "from selenium.webdriver.common.keys import Keys #to send special keys like ENTER\n",
    "from selenium.webdriver.common.by import By #finding presence of element *BY* Xpath"
   ]
  },
  {
   "cell_type": "code",
   "execution_count": 7,
   "metadata": {},
   "outputs": [],
   "source": [
    "#open instance of chrome\n",
    "driver = webdriver.Chrome(\"D:\\chromedriver.exe\") #specify path to your chrome webdriver"
   ]
  },
  {
   "cell_type": "markdown",
   "metadata": {},
   "source": [
    "OR"
   ]
  },
  {
   "cell_type": "code",
   "execution_count": null,
   "metadata": {},
   "outputs": [],
   "source": [
    "#open instance of firefox\n",
    "driver = webdriver.Firefox(\"D:\\geckodriver.exe\") #specify path to your firefox webdriver"
   ]
  },
  {
   "cell_type": "code",
   "execution_count": 9,
   "metadata": {},
   "outputs": [],
   "source": [
    "driver.get(\"https://web.whatsapp.com\") #open whatsapp web"
   ]
  },
  {
   "cell_type": "code",
   "execution_count": 29,
   "metadata": {},
   "outputs": [],
   "source": [
    "target = '\"KASAIZ\"' #group or contact on which you want to send message"
   ]
  },
  {
   "cell_type": "code",
   "execution_count": 11,
   "metadata": {},
   "outputs": [],
   "source": [
    "wait = WebDriverWait(driver,600) #if in scripting environment like pycharm, this helps you give time to scan qr to login"
   ]
  },
  {
   "cell_type": "code",
   "execution_count": 30,
   "metadata": {},
   "outputs": [],
   "source": [
    "xpath = '//span[contains(@title, '+target+')]' #finding target chat through titles from <span></span>"
   ]
  },
  {
   "cell_type": "code",
   "execution_count": 31,
   "metadata": {},
   "outputs": [],
   "source": [
    "#target variable gets position of element of chat\n",
    "target=wait.until(EC.presence_of_element_located((By.XPATH, xpath)))\n",
    "target.click() #click on the group chat/DM as specified above"
   ]
  },
  {
   "cell_type": "markdown",
   "metadata": {},
   "source": [
    "#### Text message Spam"
   ]
  },
  {
   "cell_type": "code",
   "execution_count": 18,
   "metadata": {},
   "outputs": [],
   "source": [
    "#input_box variable gets position of text box element where message needs to be typed\n",
    "input_box = driver.find_element_by_xpath(\"/html/body/div/div[1]/div[1]/div[4]/div[1]/footer/div[1]/div[2]/div/div[1]/div/div[2]\")\n"
   ]
  },
  {
   "cell_type": "code",
   "execution_count": 19,
   "metadata": {},
   "outputs": [],
   "source": [
    "#sending the message\n",
    "for i in range(10):\n",
    "    input_box.send_keys(\"HI\"+\" Robo# \"+str(i)+ +Keys.ENTER) #concatenate strings you want to send, make sure to end with Keys.ENTER to send the message"
   ]
  },
  {
   "cell_type": "markdown",
   "metadata": {},
   "source": [
    "#### Sticker Spam"
   ]
  },
  {
   "cell_type": "code",
   "execution_count": 33,
   "metadata": {},
   "outputs": [],
   "source": [
    "#3 clicks, 3 elements to navigate to a particular sticker collection. Use inspect elements to find Xpath of element you want.\n",
    "\n",
    "emoji_menu = driver.find_element_by_xpath('//*[@id=\"main\"]/footer/div[1]/div[1]/div[1]')\n",
    "emoji_menu.click()\n",
    "\n",
    "sticker_menu = driver.find_element_by_xpath('//*[@id=\"main\"]/footer/div[1]/div[1]/div[1]/button[4]')\n",
    "sticker_menu.click()\n",
    "\n",
    "s_collection = driver.find_element_by_xpath('//*[@id=\"main\"]/footer/div[2]/div/div[3]/div[1]/div/div[1]/div[1]/div/div/div[5]/div/div/div[1]')\n",
    "s_collection.click()"
   ]
  },
  {
   "cell_type": "code",
   "execution_count": 34,
   "metadata": {},
   "outputs": [],
   "source": [
    "#sending recent stickers from a collection\n",
    "\n",
    "for i in range(1,6):\n",
    "    sticker = driver.find_element_by_xpath('//*[@id=\"main\"]/footer/div[2]/div/div[3]/div[1]/div/div[1]/div[2]/div/div['+str(i)+']')\n",
    "    sticker.click()"
   ]
  }
 ],
 "metadata": {
  "interpreter": {
   "hash": "63fd5069d213b44bf678585dea6b12cceca9941eaf7f819626cde1f2670de90d"
  },
  "kernelspec": {
   "display_name": "Python 3",
   "language": "python",
   "name": "python3"
  },
  "language_info": {
   "codemirror_mode": {
    "name": "ipython",
    "version": 3
   },
   "file_extension": ".py",
   "mimetype": "text/x-python",
   "name": "python",
   "nbconvert_exporter": "python",
   "pygments_lexer": "ipython3",
   "version": "3.7.6"
  }
 },
 "nbformat": 4,
 "nbformat_minor": 2
}
