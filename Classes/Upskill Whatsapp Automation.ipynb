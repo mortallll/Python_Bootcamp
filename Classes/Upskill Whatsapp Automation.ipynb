{
 "cells": [
  {
   "cell_type": "markdown",
   "source": [
    "# Whatsapp Automation Using Selenium\r\n",
    "\r\n",
    "Selenium automates web browsers. It is most famous for enabling rapid, repeatable web-app testing, which allows developers to ship new releases faster and with confidence.\r\n",
    "\r\n",
    "## Selenium Webdriver\r\n",
    "\r\n",
    "Selenium Webdriver is the parent of all methods and classes used in Selenium Python. It is the driving force of Selenium that allows us to perform various operations on multiple elements on a webpage. Driver has various methods and attributes one can use to automate testing in Selenium Python. To check how to use webdriver, visit – Web Driver in Selenium Python .\r\n",
    "\r\n",
    "[**Link to Selenium Documentation**](https://www.selenium.dev/documentation/en/)\r\n",
    "\r\n",
    "In order to open our browser instance, we need to get our browser's drivers and specify it as an argument to our webdriver.\r\n",
    "*   [Chrome Webdriver](https://chromedriver.chromium.org/downloads)\r\n",
    "*   [Firefox Webdriver](https://github.com/mozilla/geckodriver/releases/)"
   ],
   "metadata": {}
  },
  {
   "cell_type": "code",
   "execution_count": 8,
   "source": [
    "#import libraries\r\n",
    "from selenium import webdriver #to open instance of a browser\r\n",
    "from selenium.webdriver.support.ui import WebDriverWait #For the WebDriverWait method that waits before performing further instructions, only required in script environment to wait while you scan qr code to login.\r\n",
    "from selenium.webdriver.support import expected_conditions as EC #for wait.until expected conditions i.e. Xpath from a span target is found\r\n",
    "from selenium.webdriver.common.keys import Keys #to send special keys like ENTER\r\n",
    "from selenium.webdriver.common.by import By #finding presence of element *BY* Xpath"
   ],
   "outputs": [],
   "metadata": {}
  },
  {
   "cell_type": "code",
   "execution_count": 7,
   "source": [
    "#open instance of chrome\r\n",
    "driver = webdriver.Chrome(\"D:\\chromedriver.exe\") #specify path to your chrome webdriver"
   ],
   "outputs": [],
   "metadata": {}
  },
  {
   "cell_type": "markdown",
   "source": [
    "OR"
   ],
   "metadata": {}
  },
  {
   "cell_type": "code",
   "execution_count": null,
   "source": [
    "#open instance of firefox\r\n",
    "driver = webdriver.Firefox(\"D:\\geckodriver.exe\") #specify path to your firefox webdriver"
   ],
   "outputs": [],
   "metadata": {}
  },
  {
   "cell_type": "code",
   "execution_count": 9,
   "source": [
    "driver.get(\"https://web.whatsapp.com\") #open whatsapp web"
   ],
   "outputs": [],
   "metadata": {}
  },
  {
   "cell_type": "code",
   "execution_count": 29,
   "source": [
    "target = '\"KASAIZ\"' #group or contact on which you want to send message"
   ],
   "outputs": [],
   "metadata": {}
  },
  {
   "cell_type": "code",
   "execution_count": 11,
   "source": [
    "wait = WebDriverWait(driver,600) #if in scripting environment like pycharm, this helps you give time to scan qr to login"
   ],
   "outputs": [],
   "metadata": {}
  },
  {
   "cell_type": "code",
   "execution_count": 30,
   "source": [
    "xpath = '//span[contains(@title, '+target+')]' #finding target chat through titles from <span></span>"
   ],
   "outputs": [],
   "metadata": {}
  },
  {
   "cell_type": "code",
   "execution_count": 31,
   "source": [
    "#target variable gets position of element of chat\r\n",
    "target=wait.until(EC.presence_of_element_located((By.XPATH, xpath)))\r\n",
    "target.click() #click on the group chat/DM as specified above"
   ],
   "outputs": [],
   "metadata": {}
  },
  {
   "cell_type": "markdown",
   "source": [
    "#### Text message Spam"
   ],
   "metadata": {}
  },
  {
   "cell_type": "code",
   "execution_count": 18,
   "source": [
    "#input_box variable gets position of text box element where message needs to be typed\r\n",
    "input_box = driver.find_element_by_xpath(\"/html/body/div/div[1]/div[1]/div[4]/div[1]/footer/div[1]/div[2]/div/div[1]/div/div[2]\")\r\n"
   ],
   "outputs": [],
   "metadata": {}
  },
  {
   "cell_type": "code",
   "execution_count": 19,
   "source": [
    "#sending the message\r\n",
    "for i in range(10):\r\n",
    "    input_box.send_keys(\"HI\"+\" Robo# \"+str(i)+ +Keys.ENTER) #concatenate strings you want to send, make sure to end with Keys.ENTER to send the message"
   ],
   "outputs": [],
   "metadata": {}
  },
  {
   "cell_type": "markdown",
   "source": [
    "#### Sticker Spam"
   ],
   "metadata": {}
  },
  {
   "cell_type": "code",
   "execution_count": 33,
   "source": [
    "#3 clicks, 3 elements to navigate to a particular sticker collection. Use inspect elements to find Xpath of element you want.\r\n",
    "\r\n",
    "emoji_menu = driver.find_element_by_xpath('//*[@id=\"main\"]/footer/div[1]/div[1]/div[1]')\r\n",
    "emoji_menu.click()\r\n",
    "\r\n",
    "sticker_menu = driver.find_element_by_xpath('//*[@id=\"main\"]/footer/div[1]/div[1]/div[1]/button[4]')\r\n",
    "sticker_menu.click()\r\n",
    "\r\n",
    "s_collection = driver.find_element_by_xpath('//*[@id=\"main\"]/footer/div[2]/div/div[3]/div[1]/div/div[1]/div[1]/div/div/div[5]/div/div/div[1]')\r\n",
    "s_collection.click()"
   ],
   "outputs": [],
   "metadata": {}
  },
  {
   "cell_type": "code",
   "execution_count": 34,
   "source": [
    "#sending recent stickers from a collection\r\n",
    "\r\n",
    "for i in range(1,6):\r\n",
    "    sticker = driver.find_element_by_xpath('//*[@id=\"main\"]/footer/div[2]/div/div[3]/div[1]/div/div[1]/div[2]/div/div['+str(i)+']')\r\n",
    "    sticker.click()"
   ],
   "outputs": [],
   "metadata": {}
  }
 ],
 "metadata": {
  "orig_nbformat": 4,
  "language_info": {
   "name": "python",
   "version": "3.9.1",
   "mimetype": "text/x-python",
   "codemirror_mode": {
    "name": "ipython",
    "version": 3
   },
   "pygments_lexer": "ipython3",
   "nbconvert_exporter": "python",
   "file_extension": ".py"
  },
  "kernelspec": {
   "name": "python3",
   "display_name": "Python 3.9.1 64-bit"
  },
  "interpreter": {
   "hash": "63fd5069d213b44bf678585dea6b12cceca9941eaf7f819626cde1f2670de90d"
  }
 },
 "nbformat": 4,
 "nbformat_minor": 2
}