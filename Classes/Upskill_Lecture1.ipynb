{
  "nbformat": 4,
  "nbformat_minor": 0,
  "metadata": {
    "colab": {
      "name": "Upskill_Lecture1.ipynb",
      "provenance": []
    },
    "kernelspec": {
      "name": "python3",
      "display_name": "Python 3"
    },
    "language_info": {
      "name": "python"
    }
  },
  "cells": [
    {
      "cell_type": "markdown",
      "metadata": {
        "id": "0g7ShLDYkJa7"
      },
      "source": [
        "## Your First Python Prgram 🤩\n",
        "<img src='https://drive.google.com/uc?id=1-7o-EvxGghfr1MP8Qj3PrrLyBNEN9oVA' width=500px>"
      ]
    },
    {
      "cell_type": "markdown",
      "metadata": {
        "id": "B_G6TPLxl_-j"
      },
      "source": [
        "The print() function prints the specified message to the screen, or other standard output device. The message can be a string, integer, float or any other object. *(Data types are discussed in detail in the coming sections)*"
      ]
    },
    {
      "cell_type": "code",
      "metadata": {
        "colab": {
          "base_uri": "https://localhost:8080/"
        },
        "id": "V8tjC96ENEDh",
        "outputId": "a39b6ab8-ff8a-424a-da51-31d52d3b493f"
      },
      "source": [
        "print(\"Hello World!\")"
      ],
      "execution_count": null,
      "outputs": [
        {
          "output_type": "stream",
          "text": [
            "Hello World!\n"
          ],
          "name": "stdout"
        }
      ]
    },
    {
      "cell_type": "code",
      "metadata": {
        "colab": {
          "base_uri": "https://localhost:8080/"
        },
        "id": "FlNmr9lxO2o7",
        "outputId": "8ad3a3c8-00d7-4e60-935d-2244886165c0"
      },
      "source": [
        "print('Hello World!')"
      ],
      "execution_count": null,
      "outputs": [
        {
          "output_type": "stream",
          "text": [
            "Hello World!\n"
          ],
          "name": "stdout"
        }
      ]
    },
    {
      "cell_type": "code",
      "metadata": {
        "colab": {
          "base_uri": "https://localhost:8080/",
          "height": 128
        },
        "id": "At84DWmmvmk_",
        "outputId": "b7aedcf2-1f16-40ac-e1c5-6f2e47d70164"
      },
      "source": [
        "print('Hello world!\")"
      ],
      "execution_count": null,
      "outputs": [
        {
          "output_type": "error",
          "ename": "SyntaxError",
          "evalue": "ignored",
          "traceback": [
            "\u001b[0;36m  File \u001b[0;32m\"<ipython-input-4-c3320e209218>\"\u001b[0;36m, line \u001b[0;32m1\u001b[0m\n\u001b[0;31m    print('Hello world!\")\u001b[0m\n\u001b[0m                         ^\u001b[0m\n\u001b[0;31mSyntaxError\u001b[0m\u001b[0;31m:\u001b[0m EOL while scanning string literal\n"
          ]
        }
      ]
    },
    {
      "cell_type": "markdown",
      "metadata": {
        "id": "Vtf3EYWNmqLx"
      },
      "source": [
        "Suppose you wish to print:\\\n",
        "*Welcome to Upskill!\\\n",
        "This is your first lecture!*\\\n",
        "**And you wish to print it in the same format, i.e. in multiple lines.**"
      ]
    },
    {
      "cell_type": "code",
      "metadata": {
        "colab": {
          "base_uri": "https://localhost:8080/"
        },
        "id": "gXaqNsbhmT2p",
        "outputId": "88b18f69-04d4-49b0-d09a-84ba6433badc"
      },
      "source": [
        "# Method1: Using multiple print statements\n",
        "print('Welcome to Upskill!')\n",
        "print('This is your first lecture!')"
      ],
      "execution_count": null,
      "outputs": [
        {
          "output_type": "stream",
          "text": [
            "Welcome to Upskill!\n",
            "This is your first lecture!\n"
          ],
          "name": "stdout"
        }
      ]
    },
    {
      "cell_type": "code",
      "metadata": {
        "colab": {
          "base_uri": "https://localhost:8080/"
        },
        "id": "0rWbIyGqnnpW",
        "outputId": "9e569734-28ba-42cf-b170-b78301c2e2fb"
      },
      "source": [
        "# Method2: Using the new line character\n",
        "print('Welcome to Upskill!\\nThis is your first lecture!')"
      ],
      "execution_count": null,
      "outputs": [
        {
          "output_type": "stream",
          "text": [
            "Welcome to Upskill!\n",
            "This is your first lecture!\n"
          ],
          "name": "stdout"
        }
      ]
    },
    {
      "cell_type": "code",
      "metadata": {
        "colab": {
          "base_uri": "https://localhost:8080/"
        },
        "id": "l0UGjdOrnvf5",
        "outputId": "e25dfad4-b33a-45aa-e987-ebbae5c13d9b"
      },
      "source": [
        "# Method1: Using triple quotes\n",
        "print('''Welcome to Upskill!\n",
        "This is your first lecture!''')"
      ],
      "execution_count": null,
      "outputs": [
        {
          "output_type": "stream",
          "text": [
            "Welcome to Upskill!\n",
            "This is your first lecture!\n"
          ],
          "name": "stdout"
        }
      ]
    },
    {
      "cell_type": "code",
      "metadata": {
        "colab": {
          "base_uri": "https://localhost:8080/"
        },
        "id": "YFjxQq9Pwp9f",
        "outputId": "f48abd5e-85de-4902-c6c1-46a33fa631e8"
      },
      "source": [
        "print(\"\"\"Welcome to Upskill!\n",
        "This is your first lecture!\"\"\")"
      ],
      "execution_count": null,
      "outputs": [
        {
          "output_type": "stream",
          "text": [
            "Welcome to Upskill!\n",
            "This is your first lecture!\n"
          ],
          "name": "stdout"
        }
      ]
    },
    {
      "cell_type": "markdown",
      "metadata": {
        "id": "qpeMzDXen_iJ"
      },
      "source": [
        "**Observations:**\n",
        "1. The automatic end character is new line, i.e whenever multiple print statements are written they would be printed in separate lines.\n",
        "2. '\\n' is used to add new line.\n",
        "3. Multi-line strings using triple quotes. End of lines are included by default."
      ]
    },
    {
      "cell_type": "markdown",
      "metadata": {
        "id": "TdVHH9B0pTho"
      },
      "source": [
        "Suppose you wish to print:\\\n",
        "*Welcome to Upskill! This is your first lecture!*\\\n",
        "**But you want to use multiple print statements**"
      ]
    },
    {
      "cell_type": "code",
      "metadata": {
        "colab": {
          "base_uri": "https://localhost:8080/"
        },
        "id": "m2NtIjlFoRNJ",
        "outputId": "f47e040d-8424-4271-e0c1-13256384040a"
      },
      "source": [
        "# Changing the end character\n",
        "print('Welcome to Upskill!', end = \" \")\n",
        "print('This is your first lecture!')"
      ],
      "execution_count": null,
      "outputs": [
        {
          "output_type": "stream",
          "text": [
            "Welcome to Upskill! This is your first lecture!\n"
          ],
          "name": "stdout"
        }
      ]
    },
    {
      "cell_type": "code",
      "metadata": {
        "colab": {
          "base_uri": "https://localhost:8080/"
        },
        "id": "sNyV9d72xbBO",
        "outputId": "362a0217-5e9a-45f9-fc28-12dc5e825419"
      },
      "source": [
        "print('Welcome to Upskill!'+  'This is your first lecture!', end = \"~\")"
      ],
      "execution_count": null,
      "outputs": [
        {
          "output_type": "stream",
          "text": [
            "Welcome to Upskill!This is your first lecture!~"
          ],
          "name": "stdout"
        }
      ]
    },
    {
      "cell_type": "markdown",
      "metadata": {
        "id": "gxcSaXxLqR42"
      },
      "source": [
        "## Types of Quotes in Python"
      ]
    },
    {
      "cell_type": "markdown",
      "metadata": {
        "id": "au6C3Vr-yOP-"
      },
      "source": [
        "python \"World\""
      ]
    },
    {
      "cell_type": "code",
      "metadata": {
        "colab": {
          "base_uri": "https://localhost:8080/"
        },
        "id": "lXuZePM2n5u8",
        "outputId": "8eef0d8a-a5cb-4ed0-9ed7-5bd7fc11c8c4"
      },
      "source": [
        "print('Python \"World\"')"
      ],
      "execution_count": null,
      "outputs": [
        {
          "output_type": "stream",
          "text": [
            "Python \"World\"\n"
          ],
          "name": "stdout"
        }
      ]
    },
    {
      "cell_type": "markdown",
      "metadata": {
        "id": "YabamyuJyrsd"
      },
      "source": [
        "Python's \"World\""
      ]
    },
    {
      "cell_type": "code",
      "metadata": {
        "id": "ahDT-YpOq35n",
        "colab": {
          "base_uri": "https://localhost:8080/",
          "height": 128
        },
        "outputId": "eb286533-9889-4af0-fef0-180775907ab9"
      },
      "source": [
        "print('Python's \"World\"')"
      ],
      "execution_count": null,
      "outputs": [
        {
          "output_type": "error",
          "ename": "SyntaxError",
          "evalue": "ignored",
          "traceback": [
            "\u001b[0;36m  File \u001b[0;32m\"<ipython-input-19-ca6a9507f9bc>\"\u001b[0;36m, line \u001b[0;32m1\u001b[0m\n\u001b[0;31m    print('Python's \"World\"')\u001b[0m\n\u001b[0m                  ^\u001b[0m\n\u001b[0;31mSyntaxError\u001b[0m\u001b[0;31m:\u001b[0m invalid syntax\n"
          ]
        }
      ]
    },
    {
      "cell_type": "code",
      "metadata": {
        "id": "Qs2-mPCNq5sP",
        "colab": {
          "base_uri": "https://localhost:8080/",
          "height": 128
        },
        "outputId": "b862379e-87ab-485a-a81a-9b58af0f78ba"
      },
      "source": [
        "print(\"Python's \" World\"\")"
      ],
      "execution_count": null,
      "outputs": [
        {
          "output_type": "error",
          "ename": "SyntaxError",
          "evalue": "ignored",
          "traceback": [
            "\u001b[0;36m  File \u001b[0;32m\"<ipython-input-20-3680e953221e>\"\u001b[0;36m, line \u001b[0;32m1\u001b[0m\n\u001b[0;31m    print(\"Python's \" World\"\")\u001b[0m\n\u001b[0m                          ^\u001b[0m\n\u001b[0;31mSyntaxError\u001b[0m\u001b[0;31m:\u001b[0m invalid syntax\n"
          ]
        }
      ]
    },
    {
      "cell_type": "code",
      "metadata": {
        "id": "MTH3LV12q9A8",
        "colab": {
          "base_uri": "https://localhost:8080/"
        },
        "outputId": "3ccc12de-6fb3-44f7-f198-840c2bcd6c9c"
      },
      "source": [
        "print(\"Python's 'World'\")"
      ],
      "execution_count": null,
      "outputs": [
        {
          "output_type": "stream",
          "text": [
            "Python's 'World'\n"
          ],
          "name": "stdout"
        }
      ]
    },
    {
      "cell_type": "code",
      "metadata": {
        "colab": {
          "base_uri": "https://localhost:8080/"
        },
        "id": "kXlP6yidzDiU",
        "outputId": "e8aeab72-d5ae-40e7-a0ac-3e378c9288aa"
      },
      "source": [
        "print('''Python's \"World\"''')"
      ],
      "execution_count": null,
      "outputs": [
        {
          "output_type": "stream",
          "text": [
            "Python's \"World\"\n"
          ],
          "name": "stdout"
        }
      ]
    },
    {
      "cell_type": "markdown",
      "metadata": {
        "id": "-ITCN8sTq-tF"
      },
      "source": [
        "The problem of Quotes can also be tackled using **Escape Sequnces.**"
      ]
    },
    {
      "cell_type": "code",
      "metadata": {
        "colab": {
          "base_uri": "https://localhost:8080/"
        },
        "id": "WlstdeJorBTA",
        "outputId": "1e8771dc-a29a-406f-9f33-947e02a46169"
      },
      "source": [
        "print('Python\\'s \"World\"')"
      ],
      "execution_count": null,
      "outputs": [
        {
          "output_type": "stream",
          "text": [
            "Python's \"World\"\n"
          ],
          "name": "stdout"
        }
      ]
    },
    {
      "cell_type": "code",
      "metadata": {
        "colab": {
          "base_uri": "https://localhost:8080/"
        },
        "id": "6GiE5h2jzn99",
        "outputId": "9bceb4b4-a45f-4ac6-9c96-a4d66b7ae391"
      },
      "source": [
        "print(\"Hello \\t World\")"
      ],
      "execution_count": null,
      "outputs": [
        {
          "output_type": "stream",
          "text": [
            "Hello \t World\n"
          ],
          "name": "stdout"
        }
      ]
    },
    {
      "cell_type": "code",
      "metadata": {
        "colab": {
          "base_uri": "https://localhost:8080/"
        },
        "id": "xYJMjqeEzuJM",
        "outputId": "e9de9597-8185-4346-db45-9dabf8165d61"
      },
      "source": [
        "print(\"Hello \\b World\")"
      ],
      "execution_count": null,
      "outputs": [
        {
          "output_type": "stream",
          "text": [
            "Hello \b World\n"
          ],
          "name": "stdout"
        }
      ]
    },
    {
      "cell_type": "markdown",
      "metadata": {
        "id": "ysBKLnQ6z_1I"
      },
      "source": [
        "hello :\\"
      ]
    },
    {
      "cell_type": "code",
      "metadata": {
        "colab": {
          "base_uri": "https://localhost:8080/"
        },
        "id": "vCSzs22qz83T",
        "outputId": "ee58f035-4673-45c1-a64f-eb45f8d004aa"
      },
      "source": [
        "print(\"hello :\\\\\")"
      ],
      "execution_count": null,
      "outputs": [
        {
          "output_type": "stream",
          "text": [
            "hello :\\\n"
          ],
          "name": "stdout"
        }
      ]
    },
    {
      "cell_type": "markdown",
      "metadata": {
        "id": "V-ygYDR7rPAO"
      },
      "source": [
        "Code  | Result\n",
        "-------------------|------------------\n",
        "\\\\'    | Single Quote\n",
        "\\\\\\      | Backslash\n",
        "\\\\n    | Newline\n",
        "\\\\t      | Tab\n",
        "\\\\b    | Backspace"
      ]
    },
    {
      "cell_type": "markdown",
      "metadata": {
        "id": "T5IPVRkntLEE"
      },
      "source": [
        "## Comments!🤔\n",
        "<img src='https://drive.google.com/uc?id=1-5PThfvq2rzB2-5ctti4An7fyQXyiRZr' width=500px>"
      ]
    },
    {
      "cell_type": "markdown",
      "metadata": {
        "id": "WtR28RN8tmHs"
      },
      "source": [
        "Comments are the lines that are for documentation purposes and are\n",
        "ignored by the interpreter. The comments inform the reader what the\n",
        "program is all about. A comment begins by a hash sign (#). All characters\n",
        "after the # and up to the physical line end are part of the comment."
      ]
    },
    {
      "cell_type": "code",
      "metadata": {
        "id": "CghqyoURrDLo"
      },
      "source": [
        "# This is a single line comment"
      ],
      "execution_count": null,
      "outputs": []
    },
    {
      "cell_type": "code",
      "metadata": {
        "id": "1Kl6L_BVtqeb"
      },
      "source": [
        "\"\"\"\n",
        "This is a \n",
        "multiple line\n",
        "COMMENT!!!\n",
        "\"\"\"\n",
        "print('Hey')"
      ],
      "execution_count": null,
      "outputs": []
    },
    {
      "cell_type": "code",
      "metadata": {
        "id": "vaPPWcgE31X8"
      },
      "source": [
        "print(\"Hey\")\n",
        "print(\"Welcome to Upskill\")"
      ],
      "execution_count": null,
      "outputs": []
    },
    {
      "cell_type": "markdown",
      "metadata": {
        "id": "6P3619ZPYhjb"
      },
      "source": [
        "Shortcut to comment out multiple lines of code is to select them and press **ctrl + ?**"
      ]
    },
    {
      "cell_type": "markdown",
      "metadata": {
        "id": "_xkcLa2iuL47"
      },
      "source": [
        "## Variables and Data Types in Python"
      ]
    },
    {
      "cell_type": "markdown",
      "metadata": {
        "id": "8KggJ1gvvoTT"
      },
      "source": [
        "- Variables are containers for storing data values. \n",
        "- Python has no command for declaring a variable.\n",
        "- Variables do not need to be declared with any particular type, and can even change type after they have been set.\\\n",
        "<img src='https://drive.google.com/uc?id=1tamkXPlzFiFEv6FkUsVY5S_GmHNhf744' width=500px>"
      ]
    },
    {
      "cell_type": "code",
      "metadata": {
        "colab": {
          "base_uri": "https://localhost:8080/"
        },
        "id": "RIzIIS71t-Ig",
        "outputId": "ecc2bb76-3c83-4188-fd06-9220b34249f7"
      },
      "source": [
        "name = 'Pragya'\n",
        "print(\"Hello\", name)"
      ],
      "execution_count": null,
      "outputs": [
        {
          "output_type": "stream",
          "text": [
            "Hello Pragya\n"
          ],
          "name": "stdout"
        }
      ]
    },
    {
      "cell_type": "markdown",
      "metadata": {
        "id": "0xwu0rFpwVhx"
      },
      "source": [
        "### How to take input? 🙄"
      ]
    },
    {
      "cell_type": "code",
      "metadata": {
        "colab": {
          "base_uri": "https://localhost:8080/"
        },
        "id": "0ld84LMG4t8w",
        "outputId": "68b68591-bc89-432d-e7b1-2e181787c63f"
      },
      "source": [
        "num = input()\n",
        "print(num*10)"
      ],
      "execution_count": null,
      "outputs": [
        {
          "output_type": "stream",
          "text": [
            "4\n",
            "4444444444\n"
          ],
          "name": "stdout"
        }
      ]
    },
    {
      "cell_type": "code",
      "metadata": {
        "colab": {
          "base_uri": "https://localhost:8080/"
        },
        "id": "g5axvG7_5Au1",
        "outputId": "8215a94e-3dfb-452a-9a24-91cab1bf8ea5"
      },
      "source": [
        "type(num)"
      ],
      "execution_count": null,
      "outputs": [
        {
          "output_type": "execute_result",
          "data": {
            "text/plain": [
              "str"
            ]
          },
          "metadata": {
            "tags": []
          },
          "execution_count": 45
        }
      ]
    },
    {
      "cell_type": "code",
      "metadata": {
        "colab": {
          "base_uri": "https://localhost:8080/"
        },
        "id": "T6nK8bEq5vyj",
        "outputId": "bfaa922e-7ef9-4649-c1b6-e133cd7419c3"
      },
      "source": [
        "new_num = int(num)\n",
        "print(new_num*10)"
      ],
      "execution_count": null,
      "outputs": [
        {
          "output_type": "stream",
          "text": [
            "40\n"
          ],
          "name": "stdout"
        }
      ]
    },
    {
      "cell_type": "code",
      "metadata": {
        "colab": {
          "base_uri": "https://localhost:8080/"
        },
        "id": "-8MkghokwMEU",
        "outputId": "0c91cb56-9dc9-4ed5-ef63-1d543bbfba9f"
      },
      "source": [
        "user_name = input(\"Please enter your name: \")\n",
        "print(\"Hello\", user_name)"
      ],
      "execution_count": null,
      "outputs": [
        {
          "output_type": "stream",
          "text": [
            "Please enter your name: Manthan\n",
            "Hello Manthan\n"
          ],
          "name": "stdout"
        }
      ]
    },
    {
      "cell_type": "markdown",
      "metadata": {
        "id": "3MLuI9n0wroR"
      },
      "source": [
        "### How to name variables? 😵\n",
        "<img src='https://drive.google.com/uc?id=1WeEW4p33Z4Z2FbsVG4bh298M17_3s9C7' width=350px>"
      ]
    },
    {
      "cell_type": "markdown",
      "metadata": {
        "id": "ZgHAd0-jxNRJ"
      },
      "source": [
        "**Rules for variable names:**\n",
        "- A variable name must start with a letter or the underscore character.\n",
        "- A variable name cannot start with a number.\n",
        "- A variable name can only contain alpha-numeric characters and underscores (A-z, 0-9, and _ ).\n",
        "- Variable names are case-sensitive (name, Name and NAME are three different variables).\n",
        "- The [reserved words in python](https://realpython.com/lessons/reserved-keywords/) cannot be used for naming the variable."
      ]
    },
    {
      "cell_type": "markdown",
      "metadata": {
        "id": "MC16DD32XYGW"
      },
      "source": [
        "If we don't declare the variable and try to print the output then we will get the following error"
      ]
    },
    {
      "cell_type": "code",
      "metadata": {
        "colab": {
          "base_uri": "https://localhost:8080/",
          "height": 162
        },
        "id": "bb8pzaeeXTsd",
        "outputId": "9044dab6-7ec3-4b6c-bcf1-c9fd752b3acf"
      },
      "source": [
        "print(x)"
      ],
      "execution_count": null,
      "outputs": [
        {
          "output_type": "error",
          "ename": "NameError",
          "evalue": "ignored",
          "traceback": [
            "\u001b[0;31m---------------------------------------------------------------------------\u001b[0m",
            "\u001b[0;31mNameError\u001b[0m                                 Traceback (most recent call last)",
            "\u001b[0;32m<ipython-input-48-fc17d851ef81>\u001b[0m in \u001b[0;36m<module>\u001b[0;34m()\u001b[0m\n\u001b[0;32m----> 1\u001b[0;31m \u001b[0mprint\u001b[0m\u001b[0;34m(\u001b[0m\u001b[0mx\u001b[0m\u001b[0;34m)\u001b[0m\u001b[0;34m\u001b[0m\u001b[0;34m\u001b[0m\u001b[0m\n\u001b[0m",
            "\u001b[0;31mNameError\u001b[0m: name 'x' is not defined"
          ]
        }
      ]
    },
    {
      "cell_type": "markdown",
      "metadata": {
        "id": "dVYZTWuZ1N9e"
      },
      "source": [
        "### String:"
      ]
    },
    {
      "cell_type": "code",
      "metadata": {
        "colab": {
          "base_uri": "https://localhost:8080/"
        },
        "id": "t2sBns7B1LJJ",
        "outputId": "fe458a17-95f6-400f-9baf-5d65c6a579ab"
      },
      "source": [
        "my_var = \"Hello\"\n",
        "print(my_var)\n",
        "print(type(my_var))"
      ],
      "execution_count": null,
      "outputs": [
        {
          "output_type": "stream",
          "text": [
            "Hello\n",
            "<class 'str'>\n"
          ],
          "name": "stdout"
        }
      ]
    },
    {
      "cell_type": "markdown",
      "metadata": {
        "id": "t4e9IAtTXsL3"
      },
      "source": [
        "### Integers and Floats"
      ]
    },
    {
      "cell_type": "code",
      "metadata": {
        "colab": {
          "base_uri": "https://localhost:8080/"
        },
        "id": "yn6KJkiXWqgw",
        "outputId": "697db77b-c9cf-444b-b1c4-dafb183ebd5a"
      },
      "source": [
        "a = 34\n",
        "b = 3.14\n",
        "print(\"Type of a is:\", type(a))\n",
        "print(\"Type of b is:\", type(b))"
      ],
      "execution_count": null,
      "outputs": [
        {
          "output_type": "stream",
          "text": [
            "Type of a is: <class 'int'>\n",
            "Type of b is: <class 'float'>\n"
          ],
          "name": "stdout"
        }
      ]
    },
    {
      "cell_type": "code",
      "metadata": {
        "colab": {
          "base_uri": "https://localhost:8080/"
        },
        "id": "_aRZfqzw7HCH",
        "outputId": "89375300-17af-4e36-c37a-a5d0fa8b6f19"
      },
      "source": [
        "print(\"Type of\", a, \"is:\", type(a))"
      ],
      "execution_count": null,
      "outputs": [
        {
          "output_type": "stream",
          "text": [
            "Type of 34 is: <class 'int'>\n"
          ],
          "name": "stdout"
        }
      ]
    },
    {
      "cell_type": "code",
      "metadata": {
        "colab": {
          "base_uri": "https://localhost:8080/"
        },
        "id": "qIl76fPAYG_a",
        "outputId": "2f8d88ad-8285-4788-b506-09edba871395"
      },
      "source": [
        "print(f\"Type of {a} is:\", type(a))\n",
        "print(f\"Type of {b} is:\", type(b))"
      ],
      "execution_count": null,
      "outputs": [
        {
          "output_type": "stream",
          "text": [
            "Type of 34 is: <class 'int'>\n",
            "Type of 3.14 is: <class 'float'>\n"
          ],
          "name": "stdout"
        }
      ]
    },
    {
      "cell_type": "code",
      "metadata": {
        "colab": {
          "base_uri": "https://localhost:8080/"
        },
        "id": "D4ByLclUjVFo",
        "outputId": "b1998b7b-9a19-4267-deaa-179ed099c262"
      },
      "source": [
        "# multiple assignment\n",
        "p, q, r = 10, 20, 30\n",
        "print(f\"The numbers are: {p}, {q} and {r}\")"
      ],
      "execution_count": null,
      "outputs": [
        {
          "output_type": "stream",
          "text": [
            "The numbers are: 10, 20 and 30\n"
          ],
          "name": "stdout"
        }
      ]
    },
    {
      "cell_type": "markdown",
      "metadata": {
        "id": "YcLphOmoY0Ix"
      },
      "source": [
        "### Booleans"
      ]
    },
    {
      "cell_type": "markdown",
      "metadata": {
        "id": "JHaR7-tjZcn6"
      },
      "source": [
        "Bool is short for Boolean which can have a value of either True or False. Boolean algebra is the branch of algebra in which the values of the variables are the truth values true or false."
      ]
    },
    {
      "cell_type": "code",
      "metadata": {
        "colab": {
          "base_uri": "https://localhost:8080/"
        },
        "id": "L0cC1zNtYb7n",
        "outputId": "3d02f292-ed52-4d26-b792-32cc4b4011ab"
      },
      "source": [
        "love_python = True\n",
        "is_boring = False\n",
        "# Pay close attention to how True and False are written above.\n",
        "# \"true\" and \"false\" won't be accepted as booleans\n",
        "print(type(love_python))\n",
        "print(type(is_boring))"
      ],
      "execution_count": null,
      "outputs": [
        {
          "output_type": "stream",
          "text": [
            "<class 'bool'>\n",
            "<class 'bool'>\n"
          ],
          "name": "stdout"
        }
      ]
    },
    {
      "cell_type": "markdown",
      "metadata": {
        "id": "8lNotjXWayqp"
      },
      "source": [
        "## Operators 💥"
      ]
    },
    {
      "cell_type": "markdown",
      "metadata": {
        "id": "BQSYjXwxdKfB"
      },
      "source": [
        "### Comparison Operators:"
      ]
    },
    {
      "cell_type": "markdown",
      "metadata": {
        "id": "NKf82qJfdbxP"
      },
      "source": [
        "Operator  | Description\n",
        "-------------------|------------------\n",
        "==    | Check if the value of two operands is equal\n",
        "!=       | Check if the value of two operands is NOT equal\n",
        ">   | Check if the value of left operand is greater than the value of right operand\n",
        "<      | Check if the value of left operand is less than the value of right operand\n",
        ">=    | Check if the value of left operand is greater than or equal to the value of right operand\n",
        "<=    | Check if the value of left operand is less than or equal to the value of right operand"
      ]
    },
    {
      "cell_type": "markdown",
      "metadata": {
        "id": "RitZj7vBekyE"
      },
      "source": [
        "They return a boolean after comparison, i.e. if the condition is satisfied they return true, otherwise the return false."
      ]
    },
    {
      "cell_type": "code",
      "metadata": {
        "colab": {
          "base_uri": "https://localhost:8080/"
        },
        "id": "aZXxBzU_fHEV",
        "outputId": "612e7250-ff61-4a26-adaa-1102bd090d91"
      },
      "source": [
        "print(love_python == 1)"
      ],
      "execution_count": null,
      "outputs": [
        {
          "output_type": "stream",
          "text": [
            "True\n"
          ],
          "name": "stdout"
        }
      ]
    },
    {
      "cell_type": "code",
      "metadata": {
        "colab": {
          "base_uri": "https://localhost:8080/"
        },
        "id": "2GsMREFrfpxN",
        "outputId": "f83199cb-4048-4558-a78a-daccc23bc441"
      },
      "source": [
        "print(1 == '1')  "
      ],
      "execution_count": null,
      "outputs": [
        {
          "output_type": "stream",
          "text": [
            "False\n"
          ],
          "name": "stdout"
        }
      ]
    },
    {
      "cell_type": "markdown",
      "metadata": {
        "id": "OoV_-XgYfyxa"
      },
      "source": [
        "**String '1' and integer 1 are NOT the same**"
      ]
    },
    {
      "cell_type": "code",
      "metadata": {
        "colab": {
          "base_uri": "https://localhost:8080/",
          "height": 162
        },
        "id": "bAao_P91f8yi",
        "outputId": "0f5f5c3b-d855-47d4-b4c6-851efd86f577"
      },
      "source": [
        "print(1 < '1')"
      ],
      "execution_count": null,
      "outputs": [
        {
          "output_type": "error",
          "ename": "TypeError",
          "evalue": "ignored",
          "traceback": [
            "\u001b[0;31m---------------------------------------------------------------------------\u001b[0m",
            "\u001b[0;31mTypeError\u001b[0m                                 Traceback (most recent call last)",
            "\u001b[0;32m<ipython-input-59-1c884daba93e>\u001b[0m in \u001b[0;36m<module>\u001b[0;34m()\u001b[0m\n\u001b[0;32m----> 1\u001b[0;31m \u001b[0mprint\u001b[0m\u001b[0;34m(\u001b[0m\u001b[0;36m1\u001b[0m \u001b[0;34m<\u001b[0m \u001b[0;34m'1'\u001b[0m\u001b[0;34m)\u001b[0m\u001b[0;34m\u001b[0m\u001b[0;34m\u001b[0m\u001b[0m\n\u001b[0m",
            "\u001b[0;31mTypeError\u001b[0m: '<' not supported between instances of 'int' and 'str'"
          ]
        }
      ]
    },
    {
      "cell_type": "markdown",
      "metadata": {
        "id": "IA50x_J8cOEK"
      },
      "source": [
        "### Addition: ➕"
      ]
    },
    {
      "cell_type": "code",
      "metadata": {
        "colab": {
          "base_uri": "https://localhost:8080/"
        },
        "id": "YIZFF_SzZtSc",
        "outputId": "f914603c-d546-4d92-ef76-b6f9fefc3cf3"
      },
      "source": [
        "print(love_python + is_boring)"
      ],
      "execution_count": null,
      "outputs": [
        {
          "output_type": "stream",
          "text": [
            "1\n"
          ],
          "name": "stdout"
        }
      ]
    },
    {
      "cell_type": "code",
      "metadata": {
        "colab": {
          "base_uri": "https://localhost:8080/"
        },
        "id": "5kC88rB7cWVo",
        "outputId": "2d12e3b2-fe62-4a5d-e95b-5a8c4dd07fef"
      },
      "source": [
        "print(34+3.8)"
      ],
      "execution_count": null,
      "outputs": [
        {
          "output_type": "stream",
          "text": [
            "37.8\n"
          ],
          "name": "stdout"
        }
      ]
    },
    {
      "cell_type": "code",
      "metadata": {
        "colab": {
          "base_uri": "https://localhost:8080/"
        },
        "id": "pIjkm21Icfx6",
        "outputId": "982781d0-38bc-4b42-d601-ae577f69e7ef"
      },
      "source": [
        "str1, str2 = \"Hello\", \"world\"\n",
        "print(str1 + str2)"
      ],
      "execution_count": null,
      "outputs": [
        {
          "output_type": "stream",
          "text": [
            "Helloworld\n"
          ],
          "name": "stdout"
        }
      ]
    },
    {
      "cell_type": "markdown",
      "metadata": {
        "id": "uQWr_ogDgL12"
      },
      "source": [
        "**When strings are added they get concatenated**"
      ]
    },
    {
      "cell_type": "code",
      "metadata": {
        "colab": {
          "base_uri": "https://localhost:8080/",
          "height": 162
        },
        "id": "neTE_XXBckJq",
        "outputId": "624b8ed9-4958-487e-c7a3-f6ebabd0ec68"
      },
      "source": [
        "print(\"Hello\" + 34)"
      ],
      "execution_count": null,
      "outputs": [
        {
          "output_type": "error",
          "ename": "TypeError",
          "evalue": "ignored",
          "traceback": [
            "\u001b[0;31m---------------------------------------------------------------------------\u001b[0m",
            "\u001b[0;31mTypeError\u001b[0m                                 Traceback (most recent call last)",
            "\u001b[0;32m<ipython-input-63-8bdb8ceee507>\u001b[0m in \u001b[0;36m<module>\u001b[0;34m()\u001b[0m\n\u001b[0;32m----> 1\u001b[0;31m \u001b[0mprint\u001b[0m\u001b[0;34m(\u001b[0m\u001b[0;34m\"Hello\"\u001b[0m \u001b[0;34m+\u001b[0m \u001b[0;36m34\u001b[0m\u001b[0;34m)\u001b[0m\u001b[0;34m\u001b[0m\u001b[0;34m\u001b[0m\u001b[0m\n\u001b[0m",
            "\u001b[0;31mTypeError\u001b[0m: can only concatenate str (not \"int\") to str"
          ]
        }
      ]
    },
    {
      "cell_type": "markdown",
      "metadata": {
        "id": "7ZMz-ii4gVP1"
      },
      "source": [
        "### Subtraction: ➖"
      ]
    },
    {
      "cell_type": "code",
      "metadata": {
        "colab": {
          "base_uri": "https://localhost:8080/"
        },
        "id": "7PjpMerUctcl",
        "outputId": "eaf9e9dc-e1fb-493a-9e36-6b3f018f6bcd"
      },
      "source": [
        "print(is_boring - love_python)"
      ],
      "execution_count": null,
      "outputs": [
        {
          "output_type": "stream",
          "text": [
            "-1\n"
          ],
          "name": "stdout"
        }
      ]
    },
    {
      "cell_type": "code",
      "metadata": {
        "colab": {
          "base_uri": "https://localhost:8080/"
        },
        "id": "TKV0J7wUgpmX",
        "outputId": "df25458b-8f65-407d-95fd-6e745ee92711"
      },
      "source": [
        "print(34 - 3.8)"
      ],
      "execution_count": null,
      "outputs": [
        {
          "output_type": "stream",
          "text": [
            "30.2\n"
          ],
          "name": "stdout"
        }
      ]
    },
    {
      "cell_type": "code",
      "metadata": {
        "colab": {
          "base_uri": "https://localhost:8080/",
          "height": 162
        },
        "id": "2JFii9gggsb4",
        "outputId": "14185ee2-a6ed-4180-96de-1e30eac398c8"
      },
      "source": [
        "print(\"Hello\" - \"World\")"
      ],
      "execution_count": null,
      "outputs": [
        {
          "output_type": "error",
          "ename": "TypeError",
          "evalue": "ignored",
          "traceback": [
            "\u001b[0;31m---------------------------------------------------------------------------\u001b[0m",
            "\u001b[0;31mTypeError\u001b[0m                                 Traceback (most recent call last)",
            "\u001b[0;32m<ipython-input-66-8dfcb31fe94b>\u001b[0m in \u001b[0;36m<module>\u001b[0;34m()\u001b[0m\n\u001b[0;32m----> 1\u001b[0;31m \u001b[0mprint\u001b[0m\u001b[0;34m(\u001b[0m\u001b[0;34m\"Hello\"\u001b[0m \u001b[0;34m-\u001b[0m \u001b[0;34m\"World\"\u001b[0m\u001b[0;34m)\u001b[0m\u001b[0;34m\u001b[0m\u001b[0;34m\u001b[0m\u001b[0m\n\u001b[0m",
            "\u001b[0;31mTypeError\u001b[0m: unsupported operand type(s) for -: 'str' and 'str'"
          ]
        }
      ]
    },
    {
      "cell_type": "markdown",
      "metadata": {
        "id": "yq5tRr3MgxXT"
      },
      "source": [
        "**Strings cannot be subtracted!**"
      ]
    },
    {
      "cell_type": "markdown",
      "metadata": {
        "id": "rw_43UrPg8O-"
      },
      "source": [
        "### Multiplication: ✖"
      ]
    },
    {
      "cell_type": "code",
      "metadata": {
        "colab": {
          "base_uri": "https://localhost:8080/"
        },
        "id": "2r9DBNmNhpie",
        "outputId": "01ba98bc-6394-4bfd-b9af-eae67a175306"
      },
      "source": [
        "print(love_python*34)"
      ],
      "execution_count": null,
      "outputs": [
        {
          "output_type": "stream",
          "text": [
            "34\n"
          ],
          "name": "stdout"
        }
      ]
    },
    {
      "cell_type": "code",
      "metadata": {
        "colab": {
          "base_uri": "https://localhost:8080/",
          "height": 162
        },
        "id": "TZjhAgTWhu1V",
        "outputId": "9cca1ec8-575c-46b5-f916-1a824811257f"
      },
      "source": [
        "print(\"Hello\"*\"World\")"
      ],
      "execution_count": null,
      "outputs": [
        {
          "output_type": "error",
          "ename": "TypeError",
          "evalue": "ignored",
          "traceback": [
            "\u001b[0;31m---------------------------------------------------------------------------\u001b[0m",
            "\u001b[0;31mTypeError\u001b[0m                                 Traceback (most recent call last)",
            "\u001b[0;32m<ipython-input-69-f61ea7ca36d1>\u001b[0m in \u001b[0;36m<module>\u001b[0;34m()\u001b[0m\n\u001b[0;32m----> 1\u001b[0;31m \u001b[0mprint\u001b[0m\u001b[0;34m(\u001b[0m\u001b[0;34m\"Hello\"\u001b[0m\u001b[0;34m*\u001b[0m\u001b[0;34m\"World\"\u001b[0m\u001b[0;34m)\u001b[0m\u001b[0;34m\u001b[0m\u001b[0;34m\u001b[0m\u001b[0m\n\u001b[0m",
            "\u001b[0;31mTypeError\u001b[0m: can't multiply sequence by non-int of type 'str'"
          ]
        }
      ]
    },
    {
      "cell_type": "code",
      "metadata": {
        "colab": {
          "base_uri": "https://localhost:8080/"
        },
        "id": "FhxYp69AhzgP",
        "outputId": "849ec6a0-105d-4ebc-cc21-4e4b9491f2cc"
      },
      "source": [
        "print(\"Hello\"*5)"
      ],
      "execution_count": null,
      "outputs": [
        {
          "output_type": "stream",
          "text": [
            "HelloHelloHelloHelloHello\n"
          ],
          "name": "stdout"
        }
      ]
    },
    {
      "cell_type": "markdown",
      "metadata": {
        "id": "7lki8NO5h3rG"
      },
      "source": [
        "**Strings CANNOT be multiplied with eachother, BUT if they are multplied by a number, they get concatenated that many times.**"
      ]
    },
    {
      "cell_type": "markdown",
      "metadata": {
        "id": "2wrZ7KegifWa"
      },
      "source": [
        "### Division: ➗"
      ]
    },
    {
      "cell_type": "code",
      "metadata": {
        "id": "O6zjN2pBh2pT",
        "colab": {
          "base_uri": "https://localhost:8080/"
        },
        "outputId": "b0f994ed-57b2-404f-f8ac-0f3abef04d16"
      },
      "source": [
        "print(34/17)"
      ],
      "execution_count": null,
      "outputs": [
        {
          "output_type": "stream",
          "text": [
            "2.0\n"
          ],
          "name": "stdout"
        }
      ]
    },
    {
      "cell_type": "markdown",
      "metadata": {
        "id": "JPVymVTMiq23"
      },
      "source": [
        "Division of two integers will always give **Float**"
      ]
    },
    {
      "cell_type": "code",
      "metadata": {
        "colab": {
          "base_uri": "https://localhost:8080/"
        },
        "id": "rb0Tq-I8ip4r",
        "outputId": "1c85f0c5-f9b5-47d4-d3df-ae7a2032f28c"
      },
      "source": [
        "print(love_python/34)"
      ],
      "execution_count": null,
      "outputs": [
        {
          "output_type": "stream",
          "text": [
            "0.029411764705882353\n"
          ],
          "name": "stdout"
        }
      ]
    },
    {
      "cell_type": "code",
      "metadata": {
        "id": "VSH1gW7Oi2er",
        "colab": {
          "base_uri": "https://localhost:8080/",
          "height": 162
        },
        "outputId": "ecc86052-4c78-4e42-e50d-c79dd7f014fa"
      },
      "source": [
        "print(\"Hello\"/\"World\")"
      ],
      "execution_count": null,
      "outputs": [
        {
          "output_type": "error",
          "ename": "TypeError",
          "evalue": "ignored",
          "traceback": [
            "\u001b[0;31m---------------------------------------------------------------------------\u001b[0m",
            "\u001b[0;31mTypeError\u001b[0m                                 Traceback (most recent call last)",
            "\u001b[0;32m<ipython-input-73-985abe83c3af>\u001b[0m in \u001b[0;36m<module>\u001b[0;34m()\u001b[0m\n\u001b[0;32m----> 1\u001b[0;31m \u001b[0mprint\u001b[0m\u001b[0;34m(\u001b[0m\u001b[0;34m\"Hello\"\u001b[0m\u001b[0;34m/\u001b[0m\u001b[0;34m\"World\"\u001b[0m\u001b[0;34m)\u001b[0m\u001b[0;34m\u001b[0m\u001b[0;34m\u001b[0m\u001b[0m\n\u001b[0m",
            "\u001b[0;31mTypeError\u001b[0m: unsupported operand type(s) for /: 'str' and 'str'"
          ]
        }
      ]
    },
    {
      "cell_type": "code",
      "metadata": {
        "id": "ok00kr_Ii5SE",
        "colab": {
          "base_uri": "https://localhost:8080/",
          "height": 162
        },
        "outputId": "4a1bc18b-9d02-4df7-831d-ba15d6fab14a"
      },
      "source": [
        "print(\"Hello\"/5)"
      ],
      "execution_count": null,
      "outputs": [
        {
          "output_type": "error",
          "ename": "TypeError",
          "evalue": "ignored",
          "traceback": [
            "\u001b[0;31m---------------------------------------------------------------------------\u001b[0m",
            "\u001b[0;31mTypeError\u001b[0m                                 Traceback (most recent call last)",
            "\u001b[0;32m<ipython-input-74-27c10acc6ba6>\u001b[0m in \u001b[0;36m<module>\u001b[0;34m()\u001b[0m\n\u001b[0;32m----> 1\u001b[0;31m \u001b[0mprint\u001b[0m\u001b[0;34m(\u001b[0m\u001b[0;34m\"Hello\"\u001b[0m\u001b[0;34m/\u001b[0m\u001b[0;36m5\u001b[0m\u001b[0;34m)\u001b[0m\u001b[0;34m\u001b[0m\u001b[0;34m\u001b[0m\u001b[0m\n\u001b[0m",
            "\u001b[0;31mTypeError\u001b[0m: unsupported operand type(s) for /: 'str' and 'int'"
          ]
        }
      ]
    },
    {
      "cell_type": "markdown",
      "metadata": {
        "id": "yYkotvuqjBVm"
      },
      "source": [
        "**Strings cannot be divided by strings or integers**"
      ]
    }
  ]
}