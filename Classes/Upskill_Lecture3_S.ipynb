{
  "nbformat": 4,
  "nbformat_minor": 0,
  "metadata": {
    "colab": {
      "name": "Upskill_Lecture3_S.ipynb",
      "provenance": [],
      "collapsed_sections": [
        "0g7ShLDYkJa7",
        "Gszm87EJzr8N",
        "uKR8ZMwe4cYN",
        "-4BlAu5Z-pdz",
        "CVoTEBdZH3jF",
        "wzZftPb6I8wL",
        "K-8NMwZqB2y8",
        "MDXS14CsDWek",
        "EX1dZ7qAl3fj",
        "ig4lpB_FM-GL",
        "eTXePaDdQhho"
      ]
    },
    "kernelspec": {
      "name": "python3",
      "display_name": "Python 3"
    },
    "language_info": {
      "name": "python"
    }
  },
  "cells": [
    {
      "cell_type": "markdown",
      "metadata": {
        "id": "0g7ShLDYkJa7"
      },
      "source": [
        "## Functions in Python  🤩\n",
        "\n",
        "\n",
        "<img src=\"https://drive.google.com/uc?export=view&id=1IxRY-CitohWB3shk1CaoBrdCcBRiY0Ix\" width=\"350px\">\n"
      ]
    },
    {
      "cell_type": "markdown",
      "metadata": {
        "id": "B_G6TPLxl_-j"
      },
      "source": [
        "In simple terms functions are a group of instructions, bundled as a block. Whenever we need to perfrom same kind of instructiosn we just use the bundle."
      ]
    },
    {
      "cell_type": "code",
      "metadata": {
        "id": "eh8F3-NJxgLs"
      },
      "source": [
        "Steps you will follow:-\n",
        "1) Take a utensil\n",
        "2) Fill in water\n",
        "3) Light the gas stove\n",
        "4) Place the water on the stove for boliling\n",
        "5) Wait till boliling\n",
        "6) When Boiling starts you will stop the stove\n",
        "\n",
        "But suppose you go to a restaurant and ask for boiling water. The chef will not explain you each step. You will directly get the water.\n",
        "\n"
      ],
      "execution_count": null,
      "outputs": []
    },
    {
      "cell_type": "markdown",
      "metadata": {
        "id": "Gszm87EJzr8N"
      },
      "source": [
        "# Types of Functions"
      ]
    },
    {
      "cell_type": "markdown",
      "metadata": {
        "id": "tEdP0Euz0FTN"
      },
      "source": [
        "## 2 Types of functions are there\n",
        "- Built-in Functions\n",
        "- User-Defined functions\n"
      ]
    },
    {
      "cell_type": "markdown",
      "metadata": {
        "id": "WtpXKZc03HJh"
      },
      "source": [
        "## Built-in Functions - These functions are already written and defined by the Python program."
      ]
    },
    {
      "cell_type": "code",
      "metadata": {
        "id": "V8tjC96ENEDh",
        "colab": {
          "base_uri": "https://localhost:8080/",
          "height": 212
        },
        "outputId": "c45d14ca-0a6d-437c-a66f-89ec900d167f"
      },
      "source": [
        "# print(),min(),max()\n",
        "print(\"Python\")\n",
        "min(1,2,3)\n",
        "\n",
        "max(1,2,3)\n",
        "\n",
        "mean(1,2,3)"
      ],
      "execution_count": null,
      "outputs": [
        {
          "output_type": "stream",
          "text": [
            "Python\n"
          ],
          "name": "stdout"
        },
        {
          "output_type": "error",
          "ename": "NameError",
          "evalue": "ignored",
          "traceback": [
            "\u001b[0;31m---------------------------------------------------------------------------\u001b[0m",
            "\u001b[0;31mNameError\u001b[0m                                 Traceback (most recent call last)",
            "\u001b[0;32m<ipython-input-4-5554b459b635>\u001b[0m in \u001b[0;36m<module>\u001b[0;34m()\u001b[0m\n\u001b[1;32m      5\u001b[0m \u001b[0mmax\u001b[0m\u001b[0;34m(\u001b[0m\u001b[0;36m1\u001b[0m\u001b[0;34m,\u001b[0m\u001b[0;36m2\u001b[0m\u001b[0;34m,\u001b[0m\u001b[0;36m3\u001b[0m\u001b[0;34m)\u001b[0m\u001b[0;34m\u001b[0m\u001b[0;34m\u001b[0m\u001b[0m\n\u001b[1;32m      6\u001b[0m \u001b[0;34m\u001b[0m\u001b[0m\n\u001b[0;32m----> 7\u001b[0;31m \u001b[0mmean\u001b[0m\u001b[0;34m(\u001b[0m\u001b[0;36m1\u001b[0m\u001b[0;34m,\u001b[0m\u001b[0;36m2\u001b[0m\u001b[0;34m,\u001b[0m\u001b[0;36m3\u001b[0m\u001b[0;34m)\u001b[0m\u001b[0;34m\u001b[0m\u001b[0;34m\u001b[0m\u001b[0m\n\u001b[0m",
            "\u001b[0;31mNameError\u001b[0m: name 'mean' is not defined"
          ]
        }
      ]
    },
    {
      "cell_type": "markdown",
      "metadata": {
        "id": "uKR8ZMwe4cYN"
      },
      "source": [
        "# User Defined Functions\n",
        "\n",
        "These are the functions that is is defined by the users. These are customizable blocs of code that can be reused in different parts of the program.\n",
        "\n",
        "\n",
        "<img src=\"https://drive.google.com/uc?export=view&id=1sALyw6GnKlvEt1_TiTSK_KOnS93njC9Q\" width=500px>"
      ]
    },
    {
      "cell_type": "markdown",
      "metadata": {
        "id": "a3Y8Ww7vA9C7"
      },
      "source": [
        "**How to define a function? **\n",
        "\n",
        "User define functions are defined using a keyword called \"def\".\n",
        "\n",
        "These steps are followed\n",
        "1. Add parameters to the function: they should be within the parentheses of the function. \n",
        "2. End your line with a colon.\n",
        "3. Add statements that the functions should execute.\n",
        "4. End your function with a return statement if the function should output     something. Without the return statement, your function will return an object **None.**"
      ]
    },
    {
      "cell_type": "code",
      "metadata": {
        "id": "FlNmr9lxO2o7",
        "colab": {
          "base_uri": "https://localhost:8080/"
        },
        "outputId": "0c5e6b8a-07ec-42ca-dc11-fc130d7e0f97"
      },
      "source": [
        "# Write a function to find sum of 2 numbers\n",
        "\n",
        "\n",
        "def add(a,b):\n",
        "  SUM = a + b\n",
        "  print(SUM)\n",
        "\n",
        "add(2,3)\n",
        "\n"
      ],
      "execution_count": null,
      "outputs": [
        {
          "output_type": "stream",
          "text": [
            "5\n"
          ],
          "name": "stdout"
        }
      ]
    },
    {
      "cell_type": "markdown",
      "metadata": {
        "id": "KtArQpZS9atC"
      },
      "source": [
        "**Components of a function**\n",
        "\n",
        "A user defined function some key componets that have to be included. \n",
        "1. Parameters\n",
        "2. Arguments\n",
        "3. return statement\n",
        "\n",
        "<img src=\"https://drive.google.com/uc?export=view&id=1mu6rbhKoPV4CT5l8z0BHB7m98LOOzA9U\" width=500px>"
      ]
    },
    {
      "cell_type": "markdown",
      "metadata": {
        "id": "q8Z8P_dOCCkK"
      },
      "source": [
        "**Parameters and Arguments**\n",
        "\n",
        "Paramters are those names or variables we used while defining a function inside the parentheses.\n",
        "\n",
        "Arguments are the values we actually pass when we call the function. This is used to map the values to the parameters."
      ]
    },
    {
      "cell_type": "code",
      "metadata": {
        "id": "K-78_Rxy6p6t",
        "colab": {
          "base_uri": "https://localhost:8080/"
        },
        "outputId": "5929c6e2-0363-40fd-d5b0-2649a9739a93"
      },
      "source": [
        "def hello(name):\n",
        "  print(\"Hello\"+ name)\n",
        "\n",
        "hello(\"Sakalya\")"
      ],
      "execution_count": null,
      "outputs": [
        {
          "output_type": "stream",
          "text": [
            "HelloSakalya\n"
          ],
          "name": "stdout"
        }
      ]
    },
    {
      "cell_type": "code",
      "metadata": {
        "id": "E57IyBoaC3VP",
        "colab": {
          "base_uri": "https://localhost:8080/"
        },
        "outputId": "71399125-d73a-4488-c224-ab55043801ac"
      },
      "source": [
        "def subtraction(a,b):\n",
        "  x = a-b\n",
        "  print(x)\n",
        "\n",
        "subtraction(10,5)"
      ],
      "execution_count": null,
      "outputs": [
        {
          "output_type": "stream",
          "text": [
            "5\n"
          ],
          "name": "stdout"
        }
      ]
    },
    {
      "cell_type": "markdown",
      "metadata": {
        "id": "62-J4BTP63o7"
      },
      "source": [
        "**Observations**\n",
        "1. It is not necessary to always use parameters in defining a function\n",
        "2. The number of arguments must match the number of parameters. or else it will result in an error"
      ]
    },
    {
      "cell_type": "code",
      "metadata": {
        "colab": {
          "base_uri": "https://localhost:8080/"
        },
        "id": "N3UL-SkzEDcT",
        "outputId": "37912d72-282b-4393-8f56-70373e46b2e9"
      },
      "source": [
        "def subtraction():\n",
        "  a=int(input())\n",
        "  b=int(input())\n",
        "  x = a-b\n",
        "  print(x)\n",
        "\n",
        "subtraction()"
      ],
      "execution_count": null,
      "outputs": [
        {
          "output_type": "stream",
          "text": [
            "10\n",
            "5\n",
            "5\n"
          ],
          "name": "stdout"
        }
      ]
    },
    {
      "cell_type": "code",
      "metadata": {
        "id": "cqmWs_UWENzV",
        "colab": {
          "base_uri": "https://localhost:8080/"
        },
        "outputId": "1f13dca0-dc84-42d8-dbd3-c4d5b13617dc"
      },
      "source": [
        "def hello(name):\n",
        "  print(\"Hello\"+ name)\n",
        "\n",
        "hello(\"Python\")"
      ],
      "execution_count": null,
      "outputs": [
        {
          "output_type": "stream",
          "text": [
            "HelloPython\n"
          ],
          "name": "stdout"
        }
      ]
    },
    {
      "cell_type": "code",
      "metadata": {
        "id": "adgYz2ylESrb",
        "colab": {
          "base_uri": "https://localhost:8080/"
        },
        "outputId": "c92a6072-b074-4c6d-d594-4071ce8c11f0"
      },
      "source": [
        "def add(a,b):\n",
        "  print(a+b)\n",
        "\n",
        "add(3,5)"
      ],
      "execution_count": null,
      "outputs": [
        {
          "output_type": "stream",
          "text": [
            "8\n"
          ],
          "name": "stdout"
        }
      ]
    },
    {
      "cell_type": "markdown",
      "metadata": {
        "id": "-4BlAu5Z-pdz"
      },
      "source": [
        "## return Statement\n",
        "Suppose you dont want to print the result of the function. Your aim is to use the output of the function in some other part of program. In that case return statements are really useful\n",
        "\n"
      ]
    },
    {
      "cell_type": "code",
      "metadata": {
        "id": "bES9I9wA8R3G",
        "colab": {
          "base_uri": "https://localhost:8080/",
          "height": 52
        },
        "outputId": "a4bd5e80-cd20-4a2a-f570-e56e529dcd9f"
      },
      "source": [
        "def hello():\n",
        "  print(\"Hello World\") \n",
        "  return(\"hello\")\n",
        "\n",
        "# Multiply the output of `hello()` with 2 \n",
        "hello() + \"Sakalya\"\n",
        "\n"
      ],
      "execution_count": null,
      "outputs": [
        {
          "output_type": "stream",
          "text": [
            "Hello World\n"
          ],
          "name": "stdout"
        },
        {
          "output_type": "execute_result",
          "data": {
            "application/vnd.google.colaboratory.intrinsic+json": {
              "type": "string"
            },
            "text/plain": [
              "'helloSakalya'"
            ]
          },
          "metadata": {
            "tags": []
          },
          "execution_count": 16
        }
      ]
    },
    {
      "cell_type": "code",
      "metadata": {
        "id": "1SB0Vr-7Fs9x",
        "colab": {
          "base_uri": "https://localhost:8080/",
          "height": 246
        },
        "outputId": "dc1b4b66-4721-4f50-b8f2-40806061fa09"
      },
      "source": [
        "\n",
        "def hello_noreturn():\n",
        "  print(\"Hello World\")\n",
        "\n",
        "# (Try to) multiply the output of `hello_noreturn()` with 2 \n",
        "hello_noreturn() * 2\n",
        "\n",
        "  "
      ],
      "execution_count": null,
      "outputs": [
        {
          "output_type": "stream",
          "text": [
            "Hello World\n"
          ],
          "name": "stdout"
        },
        {
          "output_type": "error",
          "ename": "TypeError",
          "evalue": "ignored",
          "traceback": [
            "\u001b[0;31m---------------------------------------------------------------------------\u001b[0m",
            "\u001b[0;31mTypeError\u001b[0m                                 Traceback (most recent call last)",
            "\u001b[0;32m<ipython-input-17-a744859c6b4b>\u001b[0m in \u001b[0;36m<module>\u001b[0;34m()\u001b[0m\n\u001b[1;32m      4\u001b[0m \u001b[0;34m\u001b[0m\u001b[0m\n\u001b[1;32m      5\u001b[0m \u001b[0;31m# (Try to) multiply the output of `hello_noreturn()` with 2\u001b[0m\u001b[0;34m\u001b[0m\u001b[0;34m\u001b[0m\u001b[0;34m\u001b[0m\u001b[0m\n\u001b[0;32m----> 6\u001b[0;31m \u001b[0mhello_noreturn\u001b[0m\u001b[0;34m(\u001b[0m\u001b[0;34m)\u001b[0m \u001b[0;34m*\u001b[0m \u001b[0;36m2\u001b[0m\u001b[0;34m\u001b[0m\u001b[0;34m\u001b[0m\u001b[0m\n\u001b[0m\u001b[1;32m      7\u001b[0m \u001b[0;34m\u001b[0m\u001b[0m\n\u001b[1;32m      8\u001b[0m \u001b[0;34m\u001b[0m\u001b[0m\n",
            "\u001b[0;31mTypeError\u001b[0m: unsupported operand type(s) for *: 'NoneType' and 'int'"
          ]
        }
      ]
    },
    {
      "cell_type": "markdown",
      "metadata": {
        "id": "06aOjSuuF5ex"
      },
      "source": [
        "**Observations**\n",
        "1. By default the return value of an user defined function is None.\n",
        "2. We can even store the return value of a function in a variable"
      ]
    },
    {
      "cell_type": "code",
      "metadata": {
        "colab": {
          "base_uri": "https://localhost:8080/"
        },
        "id": "8sZmqfh8IPnQ",
        "outputId": "3ad7b669-4411-4aa2-a824-8f0ab0968eb5"
      },
      "source": [
        "\n",
        "def hello_noreturn():\n",
        "  print(\"Hello World\")\n",
        "  return(\"Python\")\n",
        "\n",
        "language = hello_noreturn()\n",
        "\n",
        "print(language)"
      ],
      "execution_count": null,
      "outputs": [
        {
          "output_type": "stream",
          "text": [
            "Hello World\n",
            "Python\n"
          ],
          "name": "stdout"
        }
      ]
    },
    {
      "cell_type": "code",
      "metadata": {
        "id": "WNUXYt5eGIQU"
      },
      "source": [
        "# functions immediately exit when they come across a return statement, even if it means that they won’t return any value\n",
        "\n",
        "def example():\n",
        "  for x in range(10):\n",
        "     if x == 2:\n",
        "       return\n",
        "  print(\"Run!\")\n",
        "  \n",
        "example()"
      ],
      "execution_count": null,
      "outputs": []
    },
    {
      "cell_type": "markdown",
      "metadata": {
        "id": "nFwrMQwxGcQJ"
      },
      "source": [
        "- We can also return multiple values using a function. \n",
        "- We can store those values in multiple variables.\n",
        "- If we store multiple return value in a single variable then it will be stored as a tuple."
      ]
    },
    {
      "cell_type": "code",
      "metadata": {
        "colab": {
          "base_uri": "https://localhost:8080/"
        },
        "id": "PaJZsoXAG2cF",
        "outputId": "3f08474a-4331-47b7-be68-8c8c008b0ca9"
      },
      "source": [
        "def add(a,b):\n",
        "  SUM = a + b\n",
        "  return(SUM,a)\n",
        "final_sum,a_value= add(5,10)\n",
        "print(final_sum,a_value)"
      ],
      "execution_count": null,
      "outputs": [
        {
          "output_type": "stream",
          "text": [
            "15 5\n"
          ],
          "name": "stdout"
        }
      ]
    },
    {
      "cell_type": "code",
      "metadata": {
        "colab": {
          "base_uri": "https://localhost:8080/"
        },
        "id": "VmLvp0ggHmEB",
        "outputId": "5dce2ed6-6de4-48c6-bab0-a7b05b900fd0"
      },
      "source": [
        "def add(a,b):\n",
        "  SUM = a + b\n",
        "  return(SUM,a)\n",
        "value = add(5,10)\n",
        "print(value)"
      ],
      "execution_count": null,
      "outputs": [
        {
          "output_type": "stream",
          "text": [
            "(15, 5)\n"
          ],
          "name": "stdout"
        }
      ]
    },
    {
      "cell_type": "markdown",
      "metadata": {
        "id": "CVoTEBdZH3jF"
      },
      "source": [
        "## Docstrings in Functions\n",
        "\n",
        "<img src=\"https://drive.google.com/uc?export=view&id=1ltg7cE1pL4KEpUH-AucL-EMZOwQfITXO\" width=350px>\n",
        "\n",
        "\n",
        "These are nothing but comments isnide a function. These are mainly used to make your code more readbale and makes anyone understand what your function does."
      ]
    },
    {
      "cell_type": "code",
      "metadata": {
        "id": "-4FoD71gH2nU"
      },
      "source": [
        "def hello():\n",
        "  \"\"\"Prints \"Hello World\".\n",
        "\n",
        "  Returns:\n",
        "     None\n",
        "  \"\"\"\n",
        "  print(\"Hello World\") \n",
        "  return "
      ],
      "execution_count": null,
      "outputs": []
    },
    {
      "cell_type": "markdown",
      "metadata": {
        "id": "TtWSi0pSBPaQ"
      },
      "source": [
        "## Types of Arguments\n",
        "\n",
        "In short, arguments are the things which are given to any function or method call, while the function or method code refers to the arguments by their parameter names.\n",
        "\n",
        "There are 4 types of arguments\n",
        "- Default arguments\n",
        "- Required arguments\n",
        "- Keyword arguments\n",
        "- Variable number of arguments\n",
        "\n",
        "<img src=\"https://drive.google.com/uc?export=view&id=1X5ca1VwgnhoIOAYMuy1OWdlH2gbDQ3ra\" width=350px>"
      ]
    },
    {
      "cell_type": "markdown",
      "metadata": {
        "id": "wzZftPb6I8wL"
      },
      "source": [
        "## Default Arguments\n",
        "\n",
        "These arguments are those which take or assume a default value when no argument is passed during a function call. You can assign this default value by with the assignment operator ="
      ]
    },
    {
      "cell_type": "code",
      "metadata": {
        "colab": {
          "base_uri": "https://localhost:8080/"
        },
        "id": "M42djUjFBj0j",
        "outputId": "f9a4e527-b73a-4e6b-c6e8-b225358f244a"
      },
      "source": [
        "def hello(name=\"World\"):\n",
        "  print(\"Hello \" + name)\n",
        "\n",
        "hello(\"Python\")"
      ],
      "execution_count": null,
      "outputs": [
        {
          "output_type": "stream",
          "text": [
            "Hello Python\n"
          ],
          "name": "stdout"
        }
      ]
    },
    {
      "cell_type": "code",
      "metadata": {
        "id": "DxPZLvHcCueH",
        "colab": {
          "base_uri": "https://localhost:8080/"
        },
        "outputId": "f93f24bc-670a-4287-aa69-319dc534ac74"
      },
      "source": [
        "def maximum(a,b,c=12):\n",
        "  return max(a,b,c)\n",
        "\n",
        "maximum(10,11)\n"
      ],
      "execution_count": null,
      "outputs": [
        {
          "output_type": "execute_result",
          "data": {
            "text/plain": [
              "12"
            ]
          },
          "metadata": {
            "tags": []
          },
          "execution_count": 27
        }
      ]
    },
    {
      "cell_type": "code",
      "metadata": {
        "id": "nq4BYnaNMS27",
        "colab": {
          "base_uri": "https://localhost:8080/"
        },
        "outputId": "21e20fc2-ff5e-43bf-e889-164907043756"
      },
      "source": [
        "def maximum(a,c,b=12):\n",
        "  return max(a,b,c)\n",
        "\n",
        "maximum(10,11)"
      ],
      "execution_count": null,
      "outputs": [
        {
          "output_type": "execute_result",
          "data": {
            "text/plain": [
              "12"
            ]
          },
          "metadata": {
            "tags": []
          },
          "execution_count": 29
        }
      ]
    },
    {
      "cell_type": "markdown",
      "metadata": {
        "id": "caxq9ntAMYdo"
      },
      "source": [
        "Observations\n",
        "1. Default argument should come at the last followed by non-default arguments\n"
      ]
    },
    {
      "cell_type": "markdown",
      "metadata": {
        "id": "K-8NMwZqB2y8"
      },
      "source": [
        "## Required Arguments\n",
        "These are the arguments that have to be there. As we already discussed that the arguments must match the number of parameters."
      ]
    },
    {
      "cell_type": "code",
      "metadata": {
        "id": "awSJoR2kKfgN",
        "colab": {
          "base_uri": "https://localhost:8080/"
        },
        "outputId": "04e1069b-c39e-4cc3-cb37-bb67a82b327f"
      },
      "source": [
        "# Define `plus()` with required arguments\n",
        "def plus(a,b):\n",
        "  return a/b\n",
        "\n",
        "plus(3,4)"
      ],
      "execution_count": null,
      "outputs": [
        {
          "output_type": "execute_result",
          "data": {
            "text/plain": [
              "0.75"
            ]
          },
          "metadata": {
            "tags": []
          },
          "execution_count": 30
        }
      ]
    },
    {
      "cell_type": "markdown",
      "metadata": {
        "id": "MDXS14CsDWek"
      },
      "source": [
        "## Keyword Arguments\n",
        "\n",
        "If you need to specify the order of using the arguments or you want to change it you can use keyword arguments."
      ]
    },
    {
      "cell_type": "code",
      "metadata": {
        "id": "At84DWmmvmk_",
        "colab": {
          "base_uri": "https://localhost:8080/"
        },
        "outputId": "6b7ea7bb-3983-4242-d56a-2b1a69467e09"
      },
      "source": [
        "# Define `plus()` function\n",
        "def plus(a,b):\n",
        "  print(b)\n",
        "  return a + b\n",
        "  \n",
        "# Call `plus()` function with parameters \n",
        "#plus(2,3)\n",
        "\n",
        "# Call `plus()` function with keyword arguments\n",
        "plus(b=2,a=1)"
      ],
      "execution_count": null,
      "outputs": [
        {
          "output_type": "stream",
          "text": [
            "2\n"
          ],
          "name": "stdout"
        },
        {
          "output_type": "execute_result",
          "data": {
            "text/plain": [
              "3"
            ]
          },
          "metadata": {
            "tags": []
          },
          "execution_count": 34
        }
      ]
    },
    {
      "cell_type": "code",
      "metadata": {
        "id": "7Nv5Q0pyLQN8"
      },
      "source": [
        "def plus(a,b):\n",
        "  print(b)\n",
        "  return a + b\n",
        "  \n",
        "# Call `plus()` function with keyword arguments\n",
        "plus(b=2, a=1)"
      ],
      "execution_count": null,
      "outputs": []
    },
    {
      "cell_type": "markdown",
      "metadata": {
        "id": "rGraSE49ED-H"
      },
      "source": [
        "**Observations**\n",
        "1. Even if we swtiched a and b while passing arguments, the values are assigned respectively\n"
      ]
    },
    {
      "cell_type": "markdown",
      "metadata": {
        "id": "EX1dZ7qAl3fj"
      },
      "source": [
        "## Variable Arguments\n",
        "\n",
        "\n",
        "\n",
        "\n",
        "When you dont know the number of arguments that the user will pass, you use the variable argument."
      ]
    },
    {
      "cell_type": "code",
      "metadata": {
        "id": "dnQTX8ctmMJl",
        "colab": {
          "base_uri": "https://localhost:8080/"
        },
        "outputId": "82be0262-9a70-43ea-d2fb-01dcde385640"
      },
      "source": [
        "# Define `plus()` function to accept a variable number of arguments\n",
        "def plus(*args):\n",
        "  return sum(args)\n",
        "\n",
        "# Calculate the sum\n",
        "plus(1,4,5,6,7,8)"
      ],
      "execution_count": null,
      "outputs": [
        {
          "output_type": "execute_result",
          "data": {
            "text/plain": [
              "31"
            ]
          },
          "metadata": {
            "tags": []
          },
          "execution_count": 37
        }
      ]
    },
    {
      "cell_type": "markdown",
      "metadata": {
        "id": "ig4lpB_FM-GL"
      },
      "source": [
        "# Recursion in Python\n",
        "\n",
        "Recursion is a concept in computer science when a function calls itself and loops until it reaches the desired end condition.\n",
        "\n",
        "There are 2 components of a recursive function:-\n",
        "\n",
        "1. Base case - This is the desired state\n",
        "2. Recursive case - This is when the desired step is not reached and the program enters into another recursive call"
      ]
    },
    {
      "cell_type": "markdown",
      "metadata": {
        "id": "4ldhgKxoOKot"
      },
      "source": [
        "<img src=\"https://drive.google.com/uc?export=view&id=1lvUmwEJqL5F9XZLamK86czAvIOaH4kmY\" width=500px>"
      ]
    },
    {
      "cell_type": "code",
      "metadata": {
        "id": "iDbLvOOCNs2f",
        "colab": {
          "base_uri": "https://localhost:8080/"
        },
        "outputId": "de889243-e1a0-470c-b7ca-be32e299db79"
      },
      "source": [
        "# Lets try print the sequence of numbers from 1 to 10 using recursion\n",
        "\n",
        "def recursiveprint(number):\n",
        "  if (number==10):\n",
        "    return\n",
        "  else:\n",
        "    print(number)\n",
        "    return recursiveprint(number+1)\n",
        "\n",
        "recursiveprint(1)"
      ],
      "execution_count": null,
      "outputs": [
        {
          "output_type": "stream",
          "text": [
            "1\n",
            "2\n",
            "3\n",
            "4\n",
            "5\n",
            "6\n",
            "7\n",
            "8\n",
            "9\n"
          ],
          "name": "stdout"
        }
      ]
    },
    {
      "cell_type": "markdown",
      "metadata": {
        "id": "CHNfD-9WO7MJ"
      },
      "source": [
        "Factorial using recursion and loops"
      ]
    },
    {
      "cell_type": "code",
      "metadata": {
        "id": "bgpOdi14O6dw",
        "colab": {
          "base_uri": "https://localhost:8080/"
        },
        "outputId": "f08966e3-01bc-4382-80a9-dd22c7ac4a00"
      },
      "source": [
        "# Using loops \n",
        "f = 1\n",
        "for i in range(1,6):\n",
        "  f = f*i\n",
        "print(f)\n"
      ],
      "execution_count": null,
      "outputs": [
        {
          "output_type": "stream",
          "text": [
            "120\n"
          ],
          "name": "stdout"
        }
      ]
    },
    {
      "cell_type": "code",
      "metadata": {
        "id": "tMQTY_mIPkTZ",
        "colab": {
          "base_uri": "https://localhost:8080/"
        },
        "outputId": "662e6bb4-5af2-42e5-8b30-6db0c8b659af"
      },
      "source": [
        "# using recursion\n",
        "def factorial_recursion(number):\n",
        "  if number == 0 or number == 1:\n",
        "    return 1\n",
        "  else:\n",
        "    return number * factorial_recursion(number-1)\n",
        "\n",
        "print(factorial_recursion(5))"
      ],
      "execution_count": null,
      "outputs": [
        {
          "output_type": "stream",
          "text": [
            "120\n"
          ],
          "name": "stdout"
        }
      ]
    },
    {
      "cell_type": "markdown",
      "metadata": {
        "id": "eTXePaDdQhho"
      },
      "source": [
        "# Assignment"
      ]
    },
    {
      "cell_type": "markdown",
      "metadata": {
        "id": "5oAL7ST7QjeQ"
      },
      "source": [
        "Write a python program to print a Collatz Sequence using loop as well as recursion\n",
        "\n",
        "\n",
        "\n",
        "\n",
        "**Collatz Sequence**\n",
        "\n",
        "Starting with any positive integer N, Collatz sequence is defined corresponding to n as the numbers formed by the following operations :\n",
        "\n",
        "1. If n is even, then n = n / 2.\n",
        "2. If n is odd, then n = 3*n + 1.\n",
        "3. Repeat above steps, until it becomes 1.\n",
        "\n",
        "\n",
        "Example \n",
        "\n",
        "Input : 3\n",
        "\n",
        "Output : 3, 10, 5, 16, 8, 4, 2, 1  "
      ]
    }
  ]
}