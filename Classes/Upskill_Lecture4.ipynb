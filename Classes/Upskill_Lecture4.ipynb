{
  "nbformat": 4,
  "nbformat_minor": 0,
  "metadata": {
    "colab": {
      "name": "Upskill_Lec4.ipynb",
      "provenance": []
    },
    "kernelspec": {
      "name": "python3",
      "display_name": "Python 3"
    },
    "language_info": {
      "name": "python"
    }
  },
  "cells": [
    {
      "cell_type": "markdown",
      "metadata": {
        "id": "K_WyQKubApRM"
      },
      "source": [
        "# Intro to Python Data Structures ✨"
      ]
    },
    {
      "cell_type": "markdown",
      "metadata": {
        "id": "PFX04ZEkBgSQ"
      },
      "source": [
        "Data structures are basically just that - they are structures which can hold some data together. In other words, they are used to store a collection of related data. There are four built-in data structures in Python - **list, tuple, dictionary and set.**"
      ]
    },
    {
      "cell_type": "markdown",
      "metadata": {
        "id": "eWB8ifFUCUY7"
      },
      "source": [
        "## Lists\n",
        "- General purpose\n",
        "- Most widely used data structure\n",
        "- Grow and shrink size as needed\n",
        "- Sequence type\n",
        "- Sortable\n",
        "\n",
        "\n"
      ]
    },
    {
      "cell_type": "code",
      "metadata": {
        "id": "3MZ7IeuzAfAm"
      },
      "source": [
        "# Declaring an empty list\n",
        "x = []\n",
        "y = list()\n",
        "print(type(x))\n",
        "print(type(y))\n",
        "print(x, y)"
      ],
      "execution_count": null,
      "outputs": []
    },
    {
      "cell_type": "markdown",
      "metadata": {
        "id": "Lk_LrFfUDbNX"
      },
      "source": [
        "**indexing** - access any item in the sequence using its index.\\\n",
        "Indexing starts with 0 for the first element.\\\n",
        "<img src='https://drive.google.com/uc?id=1zw2NICbN-4PtlBXYfmlOCCpLsL2gqpWv' width=500px>"
      ]
    },
    {
      "cell_type": "code",
      "metadata": {
        "id": "M05l03T-DQDc"
      },
      "source": [
        "# string\n",
        "x = 'frog'\n",
        "print (x[3], x[-1])\n",
        "\n",
        "# list\n",
        "x = ['pig', 'cow', 'horse']\n",
        "print (x[1], x[-1])"
      ],
      "execution_count": null,
      "outputs": []
    },
    {
      "cell_type": "markdown",
      "metadata": {
        "id": "vofmv02XDxSA"
      },
      "source": [
        "**slicing** - slice out substrings, sublists, subtuples using indexes.\\\n",
        "[start : end+1 : step]"
      ]
    },
    {
      "cell_type": "code",
      "metadata": {
        "id": "25jvt3ufDsQ8"
      },
      "source": [
        "x = 'computer'\n",
        "print(x[1:4])\n",
        "print(x[1:6:2])\n",
        "print(x[3:])\n",
        "print(x[:5])\n",
        "print(x[-1])\n",
        "print(x[-3:])\n",
        "print(x[:-2])"
      ],
      "execution_count": null,
      "outputs": []
    },
    {
      "cell_type": "markdown",
      "metadata": {
        "id": "fb3YfjagEB3m"
      },
      "source": [
        "**adding / concatenating** - combine 2 sequences of the same type by using"
      ]
    },
    {
      "cell_type": "code",
      "metadata": {
        "id": "S0IuMG08D66A"
      },
      "source": [
        "# string\n",
        "x = 'horse' + 'shoe'\n",
        "print(x)\n",
        "\n",
        "# list\n",
        "y = ['pig', 'cow'] + ['horse']\n",
        "print(y)"
      ],
      "execution_count": null,
      "outputs": []
    },
    {
      "cell_type": "markdown",
      "metadata": {
        "id": "27UVVwYBEJbF"
      },
      "source": [
        "**multiplying** - multiply a sequence using *"
      ]
    },
    {
      "cell_type": "code",
      "metadata": {
        "id": "q9tVYZnREGR8"
      },
      "source": [
        "# string\n",
        "x = 'bug' * 3\n",
        "print(x)\n",
        "\n",
        "# list\n",
        "y = [8, 5] * 3\n",
        "print(y)"
      ],
      "execution_count": null,
      "outputs": []
    },
    {
      "cell_type": "markdown",
      "metadata": {
        "id": "nnso1p_wERKH"
      },
      "source": [
        "**checking membership** - test whether an item is or is not in a sequence."
      ]
    },
    {
      "cell_type": "code",
      "metadata": {
        "id": "y-B5zvFxENba"
      },
      "source": [
        "# string\n",
        "x = 'bug'\n",
        "print('u' in x)\n",
        "\n",
        "# list\n",
        "y = ['pig', 'cow', 'horse']\n",
        "print('cow' not in y)"
      ],
      "execution_count": null,
      "outputs": []
    },
    {
      "cell_type": "markdown",
      "metadata": {
        "id": "_zg642hvEdBR"
      },
      "source": [
        "**iterating** - iterating through the items in a sequence"
      ]
    },
    {
      "cell_type": "code",
      "metadata": {
        "id": "aBwibpMEEVO7"
      },
      "source": [
        "# item\n",
        "x = [7, 8, 3]\n",
        "for item in x:\n",
        "    print(item)\n",
        "    \n",
        "# index & item\n",
        "y = [7, 8, 3]\n",
        "for index, item in enumerate(y):\n",
        "    print(index, item)"
      ],
      "execution_count": null,
      "outputs": []
    },
    {
      "cell_type": "code",
      "metadata": {
        "id": "cY8SWVblEiI4"
      },
      "source": [
        "# item\n",
        "x = \"Hello\"\n",
        "for item in x:\n",
        "    print(item)\n",
        "    \n",
        "# index & item\n",
        "y = \"World\"\n",
        "for index, item in enumerate(y):\n",
        "    print(index, item)"
      ],
      "execution_count": null,
      "outputs": []
    },
    {
      "cell_type": "markdown",
      "metadata": {
        "id": "6DvXfDAGErLw"
      },
      "source": [
        "**number of items** - count the number of items in a sequence"
      ]
    },
    {
      "cell_type": "code",
      "metadata": {
        "id": "KSXakmjSEohM"
      },
      "source": [
        "# string\n",
        "x = 'bug'\n",
        "print(len(x))\n",
        "\n",
        "# list\n",
        "y = ['pig', 'cow', 'horse']\n",
        "print(len(y))"
      ],
      "execution_count": null,
      "outputs": []
    },
    {
      "cell_type": "markdown",
      "metadata": {
        "id": "K1mV1Y00Ez-P"
      },
      "source": [
        "**minimum** - find the minimum item in a sequence lexicographically.\\\n",
        "Alpha or numeric types, but cannot mix types."
      ]
    },
    {
      "cell_type": "code",
      "metadata": {
        "id": "NwEUKMLEExtx"
      },
      "source": [
        "# string\n",
        "x = 'bug'\n",
        "print(min(x))\n",
        "\n",
        "# list\n",
        "y = ['pig', 'cow', 'horse']\n",
        "print(min(y))"
      ],
      "execution_count": null,
      "outputs": []
    },
    {
      "cell_type": "markdown",
      "metadata": {
        "id": "tE5p95RzE8Bv"
      },
      "source": [
        "**maximum** - find the maximum item in a sequence lexicographically.\\\n",
        "Alpha or numeric types, but cannot mix types."
      ]
    },
    {
      "cell_type": "code",
      "metadata": {
        "id": "XHUCHqdBE6po"
      },
      "source": [
        "# string\n",
        "x = 'bug'\n",
        "print(max(x))\n",
        "\n",
        "# list\n",
        "y = ['pig', 'cow', 'horse']\n",
        "print(max(y))"
      ],
      "execution_count": null,
      "outputs": []
    },
    {
      "cell_type": "markdown",
      "metadata": {
        "id": "lssW3-qyFH-m"
      },
      "source": [
        "**sum** - find the sum of items in a sequence.\\\n",
        "Entire sequence must be numeric."
      ]
    },
    {
      "cell_type": "code",
      "metadata": {
        "id": "_Sum3Sj0FG2J"
      },
      "source": [
        "# string -> error\n",
        "# x = [5, 7, 'bug']\n",
        "# print(sum(x))    # generates an error\n",
        "\n",
        "# list\n",
        "y = [2, 5, 8, 12]\n",
        "print(sum(y))\n",
        "print(sum(y[-2:]))"
      ],
      "execution_count": null,
      "outputs": []
    },
    {
      "cell_type": "markdown",
      "metadata": {
        "id": "-GlHMqa5Fj74"
      },
      "source": [
        "**sorting** - returns a new list of items in sorted order.\\\n",
        "Does not change the original list."
      ]
    },
    {
      "cell_type": "code",
      "metadata": {
        "id": "06VuD5_UFiWa"
      },
      "source": [
        "# string\n",
        "x = 'bug'\n",
        "print(sorted(x))\n",
        "\n",
        "# list\n",
        "y = ['pig', 'cow', 'horse']\n",
        "print(sorted(y))\n",
        "print(y)"
      ],
      "execution_count": null,
      "outputs": []
    },
    {
      "cell_type": "markdown",
      "metadata": {
        "id": "HEirFiMyJRzY"
      },
      "source": [
        "**count(item)** - returns count of an item"
      ]
    },
    {
      "cell_type": "code",
      "metadata": {
        "id": "HMUws4euF0Ie"
      },
      "source": [
        "# string\n",
        "x = 'hippo'\n",
        "print(x.count('p'))\n",
        "\n",
        "# list\n",
        "y = ['pig', 'cow', 'horse', 'cow']\n",
        "print(y.count('cow'))"
      ],
      "execution_count": null,
      "outputs": []
    },
    {
      "cell_type": "markdown",
      "metadata": {
        "id": "VUk8wRcuJXrd"
      },
      "source": [
        "**index(item)** - returns the index of the first occurence of an item."
      ]
    },
    {
      "cell_type": "code",
      "metadata": {
        "id": "AhTVEcC5JeCe"
      },
      "source": [
        "# string\n",
        "x = 'hippo'\n",
        "print(x.index('p'))\n",
        "\n",
        "# list\n",
        "y = ['pig', 'cow', 'horse', 'cow']\n",
        "print(y.index('cow'))"
      ],
      "execution_count": null,
      "outputs": []
    },
    {
      "cell_type": "markdown",
      "metadata": {
        "id": "62IJAdIEJyN6"
      },
      "source": [
        "**unpacking** - unpack the n items of a sequence into n variables"
      ]
    },
    {
      "cell_type": "code",
      "metadata": {
        "id": "GJ_699zrJ18v"
      },
      "source": [
        "x = ['pig', 'cow', 'horse']\n",
        "a, b, c = x\n",
        "print(a, b, c)"
      ],
      "execution_count": null,
      "outputs": []
    },
    {
      "cell_type": "markdown",
      "metadata": {
        "id": "nHxqg8IiJ58V"
      },
      "source": [
        "**List Comprehension**"
      ]
    },
    {
      "cell_type": "code",
      "metadata": {
        "colab": {
          "base_uri": "https://localhost:8080/"
        },
        "id": "dy5xaTbSJ41Q",
        "outputId": "00821892-ecad-4def-cda4-ed53e1d92aa7"
      },
      "source": [
        "a = [m for m in range(8)]\n",
        "print(a)\n",
        "b = [i**2 for i in range(10) if i>4]\n",
        "print(b)"
      ],
      "execution_count": null,
      "outputs": [
        {
          "output_type": "stream",
          "text": [
            "[0, 1, 2, 3, 4, 5, 6, 7]\n",
            "[25, 36, 49, 64, 81]\n"
          ],
          "name": "stdout"
        }
      ]
    },
    {
      "cell_type": "markdown",
      "metadata": {
        "id": "U67FWxHqKIps"
      },
      "source": [
        "**delete** - delete a list or an item in a list"
      ]
    },
    {
      "cell_type": "code",
      "metadata": {
        "id": "Dzkd_y1RKFzB"
      },
      "source": [
        "x = [5, 3, 8, 6]\n",
        "del(x[1])\n",
        "print(x)\n",
        "del(x)    # list x no longer exists\n",
        "#print(x)"
      ],
      "execution_count": null,
      "outputs": []
    },
    {
      "cell_type": "markdown",
      "metadata": {
        "id": "9GJI496NKQvN"
      },
      "source": [
        "**append** - append an item to a list"
      ]
    },
    {
      "cell_type": "code",
      "metadata": {
        "id": "2o2y2NDGKNuH"
      },
      "source": [
        "x = [5, 3, 8, 6]\n",
        "x.append(7)\n",
        "print(x)"
      ],
      "execution_count": null,
      "outputs": []
    },
    {
      "cell_type": "markdown",
      "metadata": {
        "id": "zU-F5OQPKjaE"
      },
      "source": [
        "**extend** - append a sequence to a list"
      ]
    },
    {
      "cell_type": "code",
      "metadata": {
        "id": "dcoX1WJRKhcW"
      },
      "source": [
        "x = [5, 3, 8, 6]\n",
        "y = [12, 13]\n",
        "x.extend(y)\n",
        "print(x)"
      ],
      "execution_count": null,
      "outputs": []
    },
    {
      "cell_type": "markdown",
      "metadata": {
        "id": "LxUwBH_rKpMF"
      },
      "source": [
        "**insert** - insert an item at a given index"
      ]
    },
    {
      "cell_type": "code",
      "metadata": {
        "id": "tdIWrIvKKnTO"
      },
      "source": [
        "x = [5, 3, 8, 6]\n",
        "x.insert(1, 7)\n",
        "print(x)\n",
        "x.insert(1, ['a', 'm'])\n",
        "print(x)"
      ],
      "execution_count": null,
      "outputs": []
    },
    {
      "cell_type": "markdown",
      "metadata": {
        "id": "RTBH3A5VKypT"
      },
      "source": [
        "**pop** - pops last item off list and returns item"
      ]
    },
    {
      "cell_type": "code",
      "metadata": {
        "id": "bxSugzrFKwQg"
      },
      "source": [
        "x = [5, 3, 8, 6]\n",
        "x.pop()    # pop off the 6\n",
        "print(x)\n",
        "print(x.pop())"
      ],
      "execution_count": null,
      "outputs": []
    },
    {
      "cell_type": "markdown",
      "metadata": {
        "id": "lhEUhddtK4Fv"
      },
      "source": [
        "**remove** - remove first instance of an item"
      ]
    },
    {
      "cell_type": "code",
      "metadata": {
        "id": "ia-ZgG4bK2_u"
      },
      "source": [
        "x = [5, 3, 8, 6, 3]\n",
        "x.remove(3)\n",
        "print(x)"
      ],
      "execution_count": null,
      "outputs": []
    },
    {
      "cell_type": "markdown",
      "metadata": {
        "id": "bXJliWXzLAnk"
      },
      "source": [
        "**reverse** - reverse the order of the list. It is an in-place sort, meaning it changes the original list"
      ]
    },
    {
      "cell_type": "code",
      "metadata": {
        "id": "teYsTN8XK-Ga"
      },
      "source": [
        "x = [5, 3, 8, 6]\n",
        "x.reverse()\n",
        "print(x)"
      ],
      "execution_count": null,
      "outputs": []
    },
    {
      "cell_type": "markdown",
      "metadata": {
        "id": "4TZ6NCYLLGA8"
      },
      "source": [
        "**sort** - sort the list in place.\\\n",
        "Note:\n",
        " > **sorted(x)** returns a new sorted list without changing the original list x.\\\n",
        "**x.sort()** puts the items of x in sorted order (sorts in place)."
      ]
    },
    {
      "cell_type": "code",
      "metadata": {
        "id": "hT8g3-Z4LDcM"
      },
      "source": [
        "x = [5, 3, 8, 6]\n",
        "x.sort()\n",
        "print(x)"
      ],
      "execution_count": null,
      "outputs": []
    },
    {
      "cell_type": "markdown",
      "metadata": {
        "id": "VagR6QG3LZcj"
      },
      "source": [
        "## Tuples\n",
        "- Immutable (can’t add/change)\n",
        "- Useful for fixed data\n",
        "- Faster than Lists\n",
        "- Sequence type"
      ]
    },
    {
      "cell_type": "markdown",
      "metadata": {
        "id": "LF1wgiXBLk7c"
      },
      "source": [
        "**constructors** - creating new tuples."
      ]
    },
    {
      "cell_type": "code",
      "metadata": {
        "id": "FnfAzyQnLYE7"
      },
      "source": [
        "x = ()\n",
        "x = (1, 2, 3)\n",
        "x = 1, 2, 3\n",
        "x = 2,    # the comma tells Python it's a tuple\n",
        "print(x, type(x))\n",
        "\n",
        "list1 = [2, 4, 6]\n",
        "x = tuple(list1)\n",
        "print(x, type(x))"
      ],
      "execution_count": null,
      "outputs": []
    },
    {
      "cell_type": "markdown",
      "metadata": {
        "id": "Wv7pRrtELu8h"
      },
      "source": [
        "**tuples are immutable**, but member objects may be mutable."
      ]
    },
    {
      "cell_type": "code",
      "metadata": {
        "colab": {
          "base_uri": "https://localhost:8080/"
        },
        "id": "Du2nMnjdLrnO",
        "outputId": "844f7544-3a93-4ac7-e762-dd59bb6f1548"
      },
      "source": [
        "x = (1, 2, 3)\n",
        "# del(x[1])       # fails\n",
        "# x[1] = 8        # fails\n",
        "print(x)\n",
        "\n",
        "y = ([1, 2], 3)   # a tuple where the first item is a list\n",
        "del(y[0][1])      # delete the 2\n",
        "print(y)          # the list within the tuple is mutable"
      ],
      "execution_count": null,
      "outputs": [
        {
          "output_type": "stream",
          "text": [
            "(1, 2, 3)\n",
            "([1], 3)\n"
          ],
          "name": "stdout"
        }
      ]
    },
    {
      "cell_type": "markdown",
      "metadata": {
        "id": "OyqmkB1YM0jx"
      },
      "source": [
        "# MAGIC 8 BALL 🎊"
      ]
    },
    {
      "cell_type": "markdown",
      "metadata": {
        "id": "rTtSuVe_NE1W"
      },
      "source": [
        "Create a Python project of a Magic 8 Ball which is a toy used for fortune-telling or seeking advice.\n",
        "\n",
        "Note :\n",
        "\n",
        "- Allow the user to input their question.\n",
        "- Create 10/20 responses, and show a random response.\n",
        "- Allow the user to ask another question/advice or quit the game."
      ]
    },
    {
      "cell_type": "code",
      "metadata": {
        "id": "R0_NUk4RLz8u"
      },
      "source": [
        ""
      ],
      "execution_count": null,
      "outputs": []
    }
  ]
}