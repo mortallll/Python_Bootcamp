{
  "nbformat": 4,
  "nbformat_minor": 0,
  "metadata": {
    "colab": {
      "name": "Upskill_Lecture8.ipynb",
      "provenance": []
    },
    "kernelspec": {
      "name": "python3",
      "display_name": "Python 3"
    },
    "language_info": {
      "name": "python"
    }
  },
  "cells": [
    {
      "cell_type": "markdown",
      "metadata": {
        "id": "zuowKC-7_LhE"
      },
      "source": [
        "# File Handling in Python 🎉\n",
        "<img src='https://drive.google.com/uc?id=1smNcHNy-629VOUiSrUNgIqJZCM88zcNl' width=500px>"
      ]
    },
    {
      "cell_type": "markdown",
      "metadata": {
        "id": "OfO2h_SWBRo2"
      },
      "source": [
        "Python too supports file handling and allows users to handle files i.e., to read and write files, along with many other file handling options, to operate on files. Python treats file differently as text or binary and this is important. "
      ]
    },
    {
      "cell_type": "markdown",
      "metadata": {
        "id": "bvmeQwUEBpyt"
      },
      "source": [
        "## Open🔓:\n",
        "We use **open ()** function in Python to open a file in different modes. \n",
        "\n",
        "**Syntax:**\n",
        "```\n",
        " open(filename, mode)\n",
        "```\n",
        "*The file should exist in the same directory as the python program file else, full address of the file should be written in place of filename.*\\\n",
        "**Modes:**\n",
        "\n",
        "\n",
        "*   “ r “, for reading.\n",
        "* “ w “, for writing.\n",
        "* “ a “, for appending.\n",
        "* “ r+ “, for both reading and writing\n",
        "\n",
        "\n"
      ]
    },
    {
      "cell_type": "code",
      "metadata": {
        "id": "H05XrUIT_DYn"
      },
      "source": [
        "f = open('Sample.txt')  #By default it opens in read mode"
      ],
      "execution_count": null,
      "outputs": []
    },
    {
      "cell_type": "code",
      "metadata": {
        "colab": {
          "base_uri": "https://localhost:8080/"
        },
        "id": "xZ3X8I9pDFwE",
        "outputId": "af3bbfed-0a21-4650-f7f5-e0722172b4d6"
      },
      "source": [
        "print(f.name) # Name of the file\n",
        "print(f.mode) # Mode in which it is opened"
      ],
      "execution_count": null,
      "outputs": [
        {
          "output_type": "stream",
          "text": [
            "Sample.txt\n",
            "r\n"
          ],
          "name": "stdout"
        }
      ]
    },
    {
      "cell_type": "code",
      "metadata": {
        "id": "OF3Y4Y4VDPDm"
      },
      "source": [
        "f.close()"
      ],
      "execution_count": null,
      "outputs": []
    },
    {
      "cell_type": "code",
      "metadata": {
        "colab": {
          "base_uri": "https://localhost:8080/"
        },
        "id": "ycU6dn2VDaVS",
        "outputId": "c61a3ad7-d0c5-43a6-ac43-fa5e8d09ba4f"
      },
      "source": [
        "print(f.closed)"
      ],
      "execution_count": null,
      "outputs": [
        {
          "output_type": "stream",
          "text": [
            "True\n"
          ],
          "name": "stdout"
        }
      ]
    },
    {
      "cell_type": "markdown",
      "metadata": {
        "id": "jPtChyXdDrc7"
      },
      "source": [
        "It is a standard practice to **close** an opened file as a closed file reduces the risk of being unwarrantedly modified or read."
      ]
    },
    {
      "cell_type": "markdown",
      "metadata": {
        "id": "NnDXUdvqDzwZ"
      },
      "source": [
        "## Read Mode 📖:"
      ]
    },
    {
      "cell_type": "code",
      "metadata": {
        "colab": {
          "base_uri": "https://localhost:8080/"
        },
        "id": "EGP5B9uYDdMG",
        "outputId": "c5e3fc44-fa96-4f7a-830e-3ef33d0296bc"
      },
      "source": [
        "f = open('Sample.txt', 'r')\n",
        "print(f.read())\n",
        "f.close()"
      ],
      "execution_count": null,
      "outputs": [
        {
          "output_type": "stream",
          "text": [
            "1) This is a sample file!\n",
            "2) With multiple lines of data...\n",
            "3) Third line\n",
            "4) Fourth line\n",
            "5) Fifth line\n",
            "6) Sixth line\n",
            "7) Seventh line\n",
            "8) Eighth line\n",
            "9) Ninth line\n",
            "10) Tenth line\n"
          ],
          "name": "stdout"
        }
      ]
    },
    {
      "cell_type": "markdown",
      "metadata": {
        "id": "FqXvbBn_ENuF"
      },
      "source": [
        "As in the above method we have to close the file again and again, we'll rather use the following method:\n",
        "<img src='https://drive.google.com/uc?id=1_jCGvebN1zhepDureEKif8b7PqJ8KKsl' width=250px>"
      ]
    },
    {
      "cell_type": "code",
      "metadata": {
        "colab": {
          "base_uri": "https://localhost:8080/"
        },
        "id": "reyWEnEHEK6Y",
        "outputId": "99de0a3e-68ad-421b-d0dc-e972481c9820"
      },
      "source": [
        "with open(\"Sample.txt\", \"r\") as f:\n",
        "\t#Small Files:\n",
        "\tf_contents = f.read()\n",
        "\tprint(f_contents)\n",
        " \n",
        "  #The file will automatically close once out of the with block"
      ],
      "execution_count": null,
      "outputs": [
        {
          "output_type": "stream",
          "text": [
            "1) This is a sample file!\n",
            "2) With multiple lines of data...\n",
            "3) Third line\n",
            "4) Fourth line\n",
            "5) Fifth line\n",
            "6) Sixth line\n",
            "7) Seventh line\n",
            "8) Eighth line\n",
            "9) Ninth line\n",
            "10) Tenth line\n"
          ],
          "name": "stdout"
        }
      ]
    },
    {
      "cell_type": "code",
      "metadata": {
        "colab": {
          "base_uri": "https://localhost:8080/"
        },
        "id": "myoos2q5FJkO",
        "outputId": "54597c67-2065-4686-87ef-b1a8284f2905"
      },
      "source": [
        "print(f.closed)"
      ],
      "execution_count": null,
      "outputs": [
        {
          "output_type": "stream",
          "text": [
            "True\n"
          ],
          "name": "stdout"
        }
      ]
    },
    {
      "cell_type": "code",
      "metadata": {
        "id": "vIZJssRXFF6u",
        "colab": {
          "base_uri": "https://localhost:8080/",
          "height": 161
        },
        "outputId": "8e35aac6-c127-4ace-bb91-d1ea2da4c678"
      },
      "source": [
        "f.read()"
      ],
      "execution_count": null,
      "outputs": [
        {
          "output_type": "error",
          "ename": "ValueError",
          "evalue": "ignored",
          "traceback": [
            "\u001b[0;31m---------------------------------------------------------------------------\u001b[0m",
            "\u001b[0;31mValueError\u001b[0m                                Traceback (most recent call last)",
            "\u001b[0;32m<ipython-input-34-571e9fb02258>\u001b[0m in \u001b[0;36m<module>\u001b[0;34m()\u001b[0m\n\u001b[0;32m----> 1\u001b[0;31m \u001b[0mf\u001b[0m\u001b[0;34m.\u001b[0m\u001b[0mread\u001b[0m\u001b[0;34m(\u001b[0m\u001b[0;34m)\u001b[0m\u001b[0;34m\u001b[0m\u001b[0;34m\u001b[0m\u001b[0m\n\u001b[0m",
            "\u001b[0;31mValueError\u001b[0m: I/O operation on closed file."
          ]
        }
      ]
    },
    {
      "cell_type": "markdown",
      "metadata": {
        "id": "0CW21WJpFUKe"
      },
      "source": [
        "*You can't read/write on a closed file.*"
      ]
    },
    {
      "cell_type": "markdown",
      "metadata": {
        "id": "Z8Y6l_WtFrhX"
      },
      "source": [
        "Suppose the file is too large so you wish to read only first 10 characters:"
      ]
    },
    {
      "cell_type": "code",
      "metadata": {
        "id": "1bfNWH_bFcJU",
        "colab": {
          "base_uri": "https://localhost:8080/"
        },
        "outputId": "48252cb2-2647-452b-ff4a-9942a32e1161"
      },
      "source": [
        "with open(\"Sample.txt\", \"r\") as f:\n",
        "\t#Big Files:\n",
        "\tf_contents = f.read(10)\n",
        "\tprint(f_contents)"
      ],
      "execution_count": null,
      "outputs": [
        {
          "output_type": "stream",
          "text": [
            "1) This is\n"
          ],
          "name": "stdout"
        }
      ]
    },
    {
      "cell_type": "code",
      "metadata": {
        "colab": {
          "base_uri": "https://localhost:8080/"
        },
        "id": "u1qp_uZ1FvYy",
        "outputId": "b3c1085e-b7e6-4546-89eb-7636228c699e"
      },
      "source": [
        "with open(\"Sample.txt\", \"r\") as f:\n",
        "\t#Big Files:\n",
        "\tf_contents = f.read(10)\n",
        "\tprint(f_contents)\n",
        "\tf_contents = f.read(10)\n",
        "\tprint(f_contents)"
      ],
      "execution_count": null,
      "outputs": [
        {
          "output_type": "stream",
          "text": [
            "1) This is\n",
            " a sample \n"
          ],
          "name": "stdout"
        }
      ]
    },
    {
      "cell_type": "code",
      "metadata": {
        "id": "nU0QkIuvF5GH",
        "colab": {
          "base_uri": "https://localhost:8080/"
        },
        "outputId": "46fb40cc-1bda-4c6e-ffdc-d64018a6b0e9"
      },
      "source": [
        "with open(\"Sample.txt\", \"r\") as f:\n",
        "  \n",
        "##Iterating through small chunks:\n",
        "\tsize_to_read = 10\n",
        "\tf_contents = f.read(size_to_read)\n",
        "\twhile len(f_contents) > 0:\n",
        "\t\tprint(f_contents, end = '')\n",
        "\t\tf_contents = f.read(size_to_read)"
      ],
      "execution_count": null,
      "outputs": [
        {
          "output_type": "stream",
          "text": [
            "1) This is a sample file!\n",
            "2) With multiple lines of data...\n",
            "3) Third line\n",
            "4) Fourth line\n",
            "5) Fifth line\n",
            "6) Sixth line\n",
            "7) Seventh line\n",
            "8) Eighth line\n",
            "9) Ninth line\n",
            "10) Tenth line"
          ],
          "name": "stdout"
        }
      ]
    },
    {
      "cell_type": "code",
      "metadata": {
        "id": "ncEkQsAiGLvw",
        "colab": {
          "base_uri": "https://localhost:8080/"
        },
        "outputId": "a788287d-efdf-4745-b95c-a9a87084f7ac"
      },
      "source": [
        "with open(\"Sample.txt\", \"r\") as f:\n",
        "\n",
        "\t#Big Files:\n",
        "\tf_contents = f.readlines()\n",
        "\tprint(f_contents)"
      ],
      "execution_count": null,
      "outputs": [
        {
          "output_type": "stream",
          "text": [
            "['1) This is a sample file!\\n', '2) With multiple lines of data...\\n', '3) Third line\\n', '4) Fourth line\\n', '5) Fifth line\\n', '6) Sixth line\\n', '7) Seventh line\\n', '8) Eighth line\\n', '9) Ninth line\\n', '10) Tenth line']\n"
          ],
          "name": "stdout"
        }
      ]
    },
    {
      "cell_type": "code",
      "metadata": {
        "colab": {
          "base_uri": "https://localhost:8080/"
        },
        "id": "3QudOnDP7rOb",
        "outputId": "cddbd921-e1e2-4bf9-e46e-575f875abc5d"
      },
      "source": [
        "with open(\"Sample.txt\", \"r\") as f:\n",
        "\n",
        "\tf_contents = f.readline()\n",
        "\tprint(f_contents)\n",
        "\tf_contents = f.readline()\n",
        "\tprint(f_contents)"
      ],
      "execution_count": null,
      "outputs": [
        {
          "output_type": "stream",
          "text": [
            "1) This is a sample file!\n",
            "\n",
            "2) With multiple lines of data...\n",
            "\n"
          ],
          "name": "stdout"
        }
      ]
    },
    {
      "cell_type": "code",
      "metadata": {
        "colab": {
          "base_uri": "https://localhost:8080/"
        },
        "id": "_raFNPvy776r",
        "outputId": "970ac7ce-5c82-430b-8ed7-60329e28bbd6"
      },
      "source": [
        "with open(\"Sample.txt\", \"r\") as f:\n",
        "\n",
        "\t##Iterating through the file:\n",
        "\tfor line in f:\n",
        "\t\tprint(line, end = '')"
      ],
      "execution_count": null,
      "outputs": [
        {
          "output_type": "stream",
          "text": [
            "1) This is a sample file!\n",
            "2) With multiple lines of data...\n",
            "3) Third line\n",
            "4) Fourth line\n",
            "5) Fifth line\n",
            "6) Sixth line\n",
            "7) Seventh line\n",
            "8) Eighth line\n",
            "9) Ninth line\n",
            "10) Tenth line"
          ],
          "name": "stdout"
        }
      ]
    },
    {
      "cell_type": "markdown",
      "metadata": {
        "id": "Ye3-BGb6CUkH"
      },
      "source": [
        "## Write 📝:"
      ]
    },
    {
      "cell_type": "markdown",
      "metadata": {
        "id": "iscYDjzlCa33"
      },
      "source": [
        "Error while writing in read mode:"
      ]
    },
    {
      "cell_type": "code",
      "metadata": {
        "id": "dWMJy0AuBnPN",
        "colab": {
          "base_uri": "https://localhost:8080/",
          "height": 178
        },
        "outputId": "9e0a5c69-d5be-44fe-8b35-0e90537176de"
      },
      "source": [
        "with open(\"Sample.txt\", \"r\") as f:\n",
        "  f.write(\"Hello!\")"
      ],
      "execution_count": null,
      "outputs": [
        {
          "output_type": "error",
          "ename": "UnsupportedOperation",
          "evalue": "ignored",
          "traceback": [
            "\u001b[0;31m---------------------------------------------------------------------------\u001b[0m",
            "\u001b[0;31mUnsupportedOperation\u001b[0m                      Traceback (most recent call last)",
            "\u001b[0;32m<ipython-input-47-758f8b73ebbd>\u001b[0m in \u001b[0;36m<module>\u001b[0;34m()\u001b[0m\n\u001b[1;32m      1\u001b[0m \u001b[0;32mwith\u001b[0m \u001b[0mopen\u001b[0m\u001b[0;34m(\u001b[0m\u001b[0;34m\"Sample.txt\"\u001b[0m\u001b[0;34m,\u001b[0m \u001b[0;34m\"r\"\u001b[0m\u001b[0;34m)\u001b[0m \u001b[0;32mas\u001b[0m \u001b[0mf\u001b[0m\u001b[0;34m:\u001b[0m\u001b[0;34m\u001b[0m\u001b[0;34m\u001b[0m\u001b[0m\n\u001b[0;32m----> 2\u001b[0;31m   \u001b[0mf\u001b[0m\u001b[0;34m.\u001b[0m\u001b[0mwrite\u001b[0m\u001b[0;34m(\u001b[0m\u001b[0;34m\"Hello!\"\u001b[0m\u001b[0;34m)\u001b[0m\u001b[0;34m\u001b[0m\u001b[0;34m\u001b[0m\u001b[0m\n\u001b[0m",
            "\u001b[0;31mUnsupportedOperation\u001b[0m: not writable"
          ]
        }
      ]
    },
    {
      "cell_type": "code",
      "metadata": {
        "id": "lPjmzVzhEOlW"
      },
      "source": [
        "##Writing Starts:\n",
        "with open(\"test.txt\", \"w\") as f:\n",
        "\tf.write(\"Test\")"
      ],
      "execution_count": null,
      "outputs": []
    },
    {
      "cell_type": "code",
      "metadata": {
        "id": "cvwBfyo3EV0O"
      },
      "source": [
        "with open(\"test.txt\", \"w\") as f:\n",
        "\tf.write(\"New Test\")"
      ],
      "execution_count": null,
      "outputs": []
    },
    {
      "cell_type": "markdown",
      "metadata": {
        "id": "CKRJ8oTREoqW"
      },
      "source": [
        "We observed that our second statement was overwritten on the first, this is because we opened the file in write mode and not in append mode."
      ]
    },
    {
      "cell_type": "code",
      "metadata": {
        "id": "0gOkoa-sEhlb"
      },
      "source": [
        "with open(\"test.txt\", \"w\") as f:\n",
        "  f.write(\"New Test\")\n",
        "  f.seek(2)\n",
        "  f.write('R')"
      ],
      "execution_count": null,
      "outputs": []
    },
    {
      "cell_type": "code",
      "metadata": {
        "id": "V2b9fd_9FyPP"
      },
      "source": [
        "#Copying Files:\n",
        "with open(\"Sample.txt\", \"r\") as rf:\n",
        "\twith open(\"sample_copy.txt\", \"w\") as wf:\n",
        "\t\tfor line in rf:\n",
        "\t\t\twf.write(line)"
      ],
      "execution_count": null,
      "outputs": []
    },
    {
      "cell_type": "markdown",
      "metadata": {
        "id": "syNiVl3KMMxx"
      },
      "source": [
        "## Copying Image 🖼:"
      ]
    },
    {
      "cell_type": "code",
      "metadata": {
        "id": "vhLBt2pcLn4K",
        "colab": {
          "base_uri": "https://localhost:8080/",
          "height": 329
        },
        "outputId": "c4300f24-f2a0-40c2-d901-6c2ae90c3857"
      },
      "source": [
        "with open(\"python.jpg\", \"r\") as rf:\n",
        "\twith open(\"copy.jpg\", \"w\") as wf:\n",
        "\t\tfor line in rf:\n",
        "\t\t\twf.write(line)"
      ],
      "execution_count": null,
      "outputs": [
        {
          "output_type": "error",
          "ename": "UnicodeDecodeError",
          "evalue": "ignored",
          "traceback": [
            "\u001b[0;31m---------------------------------------------------------------------------\u001b[0m",
            "\u001b[0;31mUnicodeDecodeError\u001b[0m                        Traceback (most recent call last)",
            "\u001b[0;32m<ipython-input-52-3a8ea2519710>\u001b[0m in \u001b[0;36m<module>\u001b[0;34m()\u001b[0m\n\u001b[1;32m      1\u001b[0m \u001b[0;32mwith\u001b[0m \u001b[0mopen\u001b[0m\u001b[0;34m(\u001b[0m\u001b[0;34m\"python.jpg\"\u001b[0m\u001b[0;34m,\u001b[0m \u001b[0;34m\"r\"\u001b[0m\u001b[0;34m)\u001b[0m \u001b[0;32mas\u001b[0m \u001b[0mrf\u001b[0m\u001b[0;34m:\u001b[0m\u001b[0;34m\u001b[0m\u001b[0;34m\u001b[0m\u001b[0m\n\u001b[1;32m      2\u001b[0m         \u001b[0;32mwith\u001b[0m \u001b[0mopen\u001b[0m\u001b[0;34m(\u001b[0m\u001b[0;34m\"copy.jpg\"\u001b[0m\u001b[0;34m,\u001b[0m \u001b[0;34m\"w\"\u001b[0m\u001b[0;34m)\u001b[0m \u001b[0;32mas\u001b[0m \u001b[0mwf\u001b[0m\u001b[0;34m:\u001b[0m\u001b[0;34m\u001b[0m\u001b[0;34m\u001b[0m\u001b[0m\n\u001b[0;32m----> 3\u001b[0;31m                 \u001b[0;32mfor\u001b[0m \u001b[0mline\u001b[0m \u001b[0;32min\u001b[0m \u001b[0mrf\u001b[0m\u001b[0;34m:\u001b[0m\u001b[0;34m\u001b[0m\u001b[0;34m\u001b[0m\u001b[0m\n\u001b[0m\u001b[1;32m      4\u001b[0m                         \u001b[0mwf\u001b[0m\u001b[0;34m.\u001b[0m\u001b[0mwrite\u001b[0m\u001b[0;34m(\u001b[0m\u001b[0mline\u001b[0m\u001b[0;34m)\u001b[0m\u001b[0;34m\u001b[0m\u001b[0;34m\u001b[0m\u001b[0m\n",
            "\u001b[0;32m/usr/lib/python3.7/codecs.py\u001b[0m in \u001b[0;36mdecode\u001b[0;34m(self, input, final)\u001b[0m\n\u001b[1;32m    320\u001b[0m         \u001b[0;31m# decode input (taking the buffer into account)\u001b[0m\u001b[0;34m\u001b[0m\u001b[0;34m\u001b[0m\u001b[0;34m\u001b[0m\u001b[0m\n\u001b[1;32m    321\u001b[0m         \u001b[0mdata\u001b[0m \u001b[0;34m=\u001b[0m \u001b[0mself\u001b[0m\u001b[0;34m.\u001b[0m\u001b[0mbuffer\u001b[0m \u001b[0;34m+\u001b[0m \u001b[0minput\u001b[0m\u001b[0;34m\u001b[0m\u001b[0;34m\u001b[0m\u001b[0m\n\u001b[0;32m--> 322\u001b[0;31m         \u001b[0;34m(\u001b[0m\u001b[0mresult\u001b[0m\u001b[0;34m,\u001b[0m \u001b[0mconsumed\u001b[0m\u001b[0;34m)\u001b[0m \u001b[0;34m=\u001b[0m \u001b[0mself\u001b[0m\u001b[0;34m.\u001b[0m\u001b[0m_buffer_decode\u001b[0m\u001b[0;34m(\u001b[0m\u001b[0mdata\u001b[0m\u001b[0;34m,\u001b[0m \u001b[0mself\u001b[0m\u001b[0;34m.\u001b[0m\u001b[0merrors\u001b[0m\u001b[0;34m,\u001b[0m \u001b[0mfinal\u001b[0m\u001b[0;34m)\u001b[0m\u001b[0;34m\u001b[0m\u001b[0;34m\u001b[0m\u001b[0m\n\u001b[0m\u001b[1;32m    323\u001b[0m         \u001b[0;31m# keep undecoded input until the next call\u001b[0m\u001b[0;34m\u001b[0m\u001b[0;34m\u001b[0m\u001b[0;34m\u001b[0m\u001b[0m\n\u001b[1;32m    324\u001b[0m         \u001b[0mself\u001b[0m\u001b[0;34m.\u001b[0m\u001b[0mbuffer\u001b[0m \u001b[0;34m=\u001b[0m \u001b[0mdata\u001b[0m\u001b[0;34m[\u001b[0m\u001b[0mconsumed\u001b[0m\u001b[0;34m:\u001b[0m\u001b[0;34m]\u001b[0m\u001b[0;34m\u001b[0m\u001b[0;34m\u001b[0m\u001b[0m\n",
            "\u001b[0;31mUnicodeDecodeError\u001b[0m: 'utf-8' codec can't decode byte 0xff in position 0: invalid start byte"
          ]
        }
      ]
    },
    {
      "cell_type": "code",
      "metadata": {
        "id": "W77WQ4UHNCFo"
      },
      "source": [
        "with open(\"python.jpg\", \"rb\") as rf:\n",
        "\twith open(\"copy.jpg\", \"wb\") as wf:\n",
        "\t\tfor line in rf:\n",
        "\t\t\twf.write(line)"
      ],
      "execution_count": null,
      "outputs": []
    },
    {
      "cell_type": "markdown",
      "metadata": {
        "id": "QuWPvFvvNUtg"
      },
      "source": [
        "## Append mode ✍:"
      ]
    },
    {
      "cell_type": "code",
      "metadata": {
        "id": "cTiSmTxGNKuU"
      },
      "source": [
        "with open(\"Sample.txt\", \"a\") as f:\n",
        "  f.write(\"Hello!\")"
      ],
      "execution_count": null,
      "outputs": []
    },
    {
      "cell_type": "code",
      "metadata": {
        "id": "Qt1etsA7Klqd"
      },
      "source": [
        ""
      ],
      "execution_count": null,
      "outputs": []
    }
  ]
}