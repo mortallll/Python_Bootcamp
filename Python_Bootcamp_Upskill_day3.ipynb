{
  "nbformat": 4,
  "nbformat_minor": 0,
  "metadata": {
    "colab": {
      "name": "Python Bootcamp - Upskill-day3.ipynb",
      "provenance": []
    },
    "kernelspec": {
      "name": "python3",
      "display_name": "Python 3"
    },
    "language_info": {
      "name": "python"
    }
  },
  "cells": [
    {
      "cell_type": "markdown",
      "metadata": {
        "id": "L8UdJeCTAypm"
      },
      "source": [
        "Functions in Python"
      ]
    },
    {
      "cell_type": "markdown",
      "metadata": {
        "id": "ObnL8payBfVX"
      },
      "source": [
        "Types of Functions \n",
        "- Built-in-functions \n",
        "- User-Defined functions "
      ]
    },
    {
      "cell_type": "markdown",
      "metadata": {
        "id": "g-JdaUi0B5i1"
      },
      "source": [
        "Built-in-Functions -These functions are already written and defined by the python program"
      ]
    },
    {
      "cell_type": "code",
      "metadata": {
        "colab": {
          "base_uri": "https://localhost:8080/",
          "height": 225
        },
        "id": "hS5znUggBrvP",
        "outputId": "d8f87f64-568d-445e-93c0-bf908669c25d"
      },
      "source": [
        "#print(), min(), max()\n",
        "print(\"Python\")\n",
        "\n",
        "min(1,2,3)\n",
        "\n",
        "max(1,2,3)\n",
        "\n",
        "mean({1},{2},{3})"
      ],
      "execution_count": 5,
      "outputs": [
        {
          "output_type": "stream",
          "text": [
            "Python\n"
          ],
          "name": "stdout"
        },
        {
          "output_type": "error",
          "ename": "NameError",
          "evalue": "ignored",
          "traceback": [
            "\u001b[0;31m---------------------------------------------------------------------------\u001b[0m",
            "\u001b[0;31mNameError\u001b[0m                                 Traceback (most recent call last)",
            "\u001b[0;32m<ipython-input-5-62e2619d0e22>\u001b[0m in \u001b[0;36m<module>\u001b[0;34m()\u001b[0m\n\u001b[1;32m      6\u001b[0m \u001b[0mmax\u001b[0m\u001b[0;34m(\u001b[0m\u001b[0;36m1\u001b[0m\u001b[0;34m,\u001b[0m\u001b[0;36m2\u001b[0m\u001b[0;34m,\u001b[0m\u001b[0;36m3\u001b[0m\u001b[0;34m)\u001b[0m\u001b[0;34m\u001b[0m\u001b[0;34m\u001b[0m\u001b[0m\n\u001b[1;32m      7\u001b[0m \u001b[0;34m\u001b[0m\u001b[0m\n\u001b[0;32m----> 8\u001b[0;31m \u001b[0mmean\u001b[0m\u001b[0;34m(\u001b[0m\u001b[0;34m{\u001b[0m\u001b[0;36m1\u001b[0m\u001b[0;34m}\u001b[0m\u001b[0;34m,\u001b[0m\u001b[0;34m{\u001b[0m\u001b[0;36m2\u001b[0m\u001b[0;34m}\u001b[0m\u001b[0;34m,\u001b[0m\u001b[0;34m{\u001b[0m\u001b[0;36m3\u001b[0m\u001b[0;34m}\u001b[0m\u001b[0;34m)\u001b[0m\u001b[0;34m\u001b[0m\u001b[0;34m\u001b[0m\u001b[0m\n\u001b[0m",
            "\u001b[0;31mNameError\u001b[0m: name 'mean' is not defined"
          ]
        }
      ]
    },
    {
      "cell_type": "markdown",
      "metadata": {
        "id": "YmF2SpAdCHgi"
      },
      "source": [
        "User Defined Functions "
      ]
    },
    {
      "cell_type": "code",
      "metadata": {
        "colab": {
          "base_uri": "https://localhost:8080/"
        },
        "id": "36VKeXcICLyH",
        "outputId": "c1fa4ffc-0eba-4ae4-dba6-4f193a6d27cb"
      },
      "source": [
        "#write a functions to find sum of 2 numbers\n",
        "\n",
        "def add(a,b):\n",
        "  SUM = a + b\n",
        "  print(SUM)\n",
        "    \n",
        "add(2,3)"
      ],
      "execution_count": 8,
      "outputs": [
        {
          "output_type": "stream",
          "text": [
            "5\n"
          ],
          "name": "stdout"
        }
      ]
    },
    {
      "cell_type": "markdown",
      "metadata": {
        "id": "VG-T_F9lE9CU"
      },
      "source": [
        "Components of a function:\n",
        "1. Parameters\n",
        "2. Arguments\n",
        "3. Return statement"
      ]
    },
    {
      "cell_type": "code",
      "metadata": {
        "colab": {
          "base_uri": "https://localhost:8080/"
        },
        "id": "AXXPYJHWFLJn",
        "outputId": "4ef3a217-e058-48d9-e2c1-f0268e30f937"
      },
      "source": [
        "def hello(name):\n",
        "  print(\"Hello\" + name)\n",
        "\n",
        "hello(\" Suraj\")"
      ],
      "execution_count": 11,
      "outputs": [
        {
          "output_type": "stream",
          "text": [
            "Hello Suraj\n"
          ],
          "name": "stdout"
        }
      ]
    },
    {
      "cell_type": "code",
      "metadata": {
        "colab": {
          "base_uri": "https://localhost:8080/"
        },
        "id": "EOjUtbzgFj8k",
        "outputId": "818391d9-a9d8-4f27-d4d1-206366ff4fe4"
      },
      "source": [
        "def subtraction(a,b):\n",
        "  x = a - b\n",
        "  print(x)\n",
        "\n",
        "subtraction(10,5)"
      ],
      "execution_count": 12,
      "outputs": [
        {
          "output_type": "stream",
          "text": [
            "5\n"
          ],
          "name": "stdout"
        }
      ]
    },
    {
      "cell_type": "code",
      "metadata": {
        "id": "CSeJMgsaGMKD"
      },
      "source": [
        "def subtraction():\n",
        "  a = int(input())\n",
        "  b = int(input())\n",
        "  x = a - b\n",
        "  print(x)\n",
        "\n",
        "  subtraction()"
      ],
      "execution_count": 17,
      "outputs": []
    },
    {
      "cell_type": "code",
      "metadata": {
        "colab": {
          "base_uri": "https://localhost:8080/"
        },
        "id": "hSTljJxyGcOW",
        "outputId": "9d7f9746-bebc-4840-de20-6b7abe7733f3"
      },
      "source": [
        "def hello(name):\n",
        "  print(\"Hello\"+ name)\n",
        "\n",
        "hello(\"Python\")"
      ],
      "execution_count": 16,
      "outputs": [
        {
          "output_type": "stream",
          "text": [
            "HelloPython\n"
          ],
          "name": "stdout"
        }
      ]
    },
    {
      "cell_type": "code",
      "metadata": {
        "colab": {
          "base_uri": "https://localhost:8080/",
          "height": 207
        },
        "id": "XmGDcxSeG6N7",
        "outputId": "2bf04394-5c9a-4421-baf1-b19aaaebae6e"
      },
      "source": [
        "def add(a,b):\n",
        "  print(a+b)\n",
        "\n",
        "add(3)"
      ],
      "execution_count": 13,
      "outputs": [
        {
          "output_type": "error",
          "ename": "TypeError",
          "evalue": "ignored",
          "traceback": [
            "\u001b[0;31m---------------------------------------------------------------------------\u001b[0m",
            "\u001b[0;31mTypeError\u001b[0m                                 Traceback (most recent call last)",
            "\u001b[0;32m<ipython-input-13-9094b0d480b3>\u001b[0m in \u001b[0;36m<module>\u001b[0;34m()\u001b[0m\n\u001b[1;32m      2\u001b[0m   \u001b[0mprint\u001b[0m\u001b[0;34m(\u001b[0m\u001b[0ma\u001b[0m\u001b[0;34m+\u001b[0m\u001b[0mb\u001b[0m\u001b[0;34m)\u001b[0m\u001b[0;34m\u001b[0m\u001b[0;34m\u001b[0m\u001b[0m\n\u001b[1;32m      3\u001b[0m \u001b[0;34m\u001b[0m\u001b[0m\n\u001b[0;32m----> 4\u001b[0;31m \u001b[0madd\u001b[0m\u001b[0;34m(\u001b[0m\u001b[0;36m3\u001b[0m\u001b[0;34m)\u001b[0m\u001b[0;34m\u001b[0m\u001b[0;34m\u001b[0m\u001b[0m\n\u001b[0m",
            "\u001b[0;31mTypeError\u001b[0m: add() missing 1 required positional argument: 'b'"
          ]
        }
      ]
    },
    {
      "cell_type": "code",
      "metadata": {
        "colab": {
          "base_uri": "https://localhost:8080/"
        },
        "id": "SU0O6xhmHCZd",
        "outputId": "1ff4ce44-a5d9-4303-9d24-87527ff20a45"
      },
      "source": [
        "def add(a,b):\n",
        "  print(a+b)\n",
        "\n",
        "add(3,5)"
      ],
      "execution_count": 14,
      "outputs": [
        {
          "output_type": "stream",
          "text": [
            "8\n"
          ],
          "name": "stdout"
        }
      ]
    },
    {
      "cell_type": "markdown",
      "metadata": {
        "id": "TbRJeMleHF7a"
      },
      "source": [
        "return Statement"
      ]
    },
    {
      "cell_type": "code",
      "metadata": {
        "colab": {
          "base_uri": "https://localhost:8080/",
          "height": 54
        },
        "id": "4x2iy1TcHXbG",
        "outputId": "e08c26cd-9fac-4766-a461-45159e0e8d08"
      },
      "source": [
        "def hello():\n",
        "  print(\"Hello World\")\n",
        "  return(\"Hello\")\n",
        "\n",
        "# Multiply the output of \"hello()\" with 2\n",
        "hello() + \"Suraj\""
      ],
      "execution_count": 19,
      "outputs": [
        {
          "output_type": "stream",
          "text": [
            "Hello World\n"
          ],
          "name": "stdout"
        },
        {
          "output_type": "execute_result",
          "data": {
            "application/vnd.google.colaboratory.intrinsic+json": {
              "type": "string"
            },
            "text/plain": [
              "'HelloSuraj'"
            ]
          },
          "metadata": {
            "tags": []
          },
          "execution_count": 19
        }
      ]
    },
    {
      "cell_type": "code",
      "metadata": {
        "colab": {
          "base_uri": "https://localhost:8080/",
          "height": 225
        },
        "id": "Cd5WIny9HvGU",
        "outputId": "e12bd815-ff43-477b-9174-c8d3fe368f10"
      },
      "source": [
        "def hello_noreturn():\n",
        "  print(\"Hello World\")\n",
        "\n",
        "# (Try to) multiply the output of \"hello_noreturn()\" with 2\n",
        "hello_noreturn() * 2"
      ],
      "execution_count": 21,
      "outputs": [
        {
          "output_type": "stream",
          "text": [
            "Hello World\n"
          ],
          "name": "stdout"
        },
        {
          "output_type": "error",
          "ename": "TypeError",
          "evalue": "ignored",
          "traceback": [
            "\u001b[0;31m---------------------------------------------------------------------------\u001b[0m",
            "\u001b[0;31mTypeError\u001b[0m                                 Traceback (most recent call last)",
            "\u001b[0;32m<ipython-input-21-7720d8462f99>\u001b[0m in \u001b[0;36m<module>\u001b[0;34m()\u001b[0m\n\u001b[1;32m      3\u001b[0m \u001b[0;34m\u001b[0m\u001b[0m\n\u001b[1;32m      4\u001b[0m \u001b[0;31m# (Try to) multiply the output of \"hello_noreturn()\" with 2\u001b[0m\u001b[0;34m\u001b[0m\u001b[0;34m\u001b[0m\u001b[0;34m\u001b[0m\u001b[0m\n\u001b[0;32m----> 5\u001b[0;31m \u001b[0mhello_noreturn\u001b[0m\u001b[0;34m(\u001b[0m\u001b[0;34m)\u001b[0m \u001b[0;34m*\u001b[0m \u001b[0;36m2\u001b[0m\u001b[0;34m\u001b[0m\u001b[0;34m\u001b[0m\u001b[0m\n\u001b[0m",
            "\u001b[0;31mTypeError\u001b[0m: unsupported operand type(s) for *: 'NoneType' and 'int'"
          ]
        }
      ]
    },
    {
      "cell_type": "code",
      "metadata": {
        "colab": {
          "base_uri": "https://localhost:8080/"
        },
        "id": "zQ_jB1y-ICqg",
        "outputId": "efe20a07-f8f6-45d1-87e2-70b65073ff0b"
      },
      "source": [
        "def hello_noreturn():\n",
        "  print(\"Hello World\")\n",
        "  return(\"Python\")\n",
        "\n",
        "language = hello_noreturn()\n",
        "\n",
        "print(language)"
      ],
      "execution_count": 22,
      "outputs": [
        {
          "output_type": "stream",
          "text": [
            "Hello World\n",
            "Python\n"
          ],
          "name": "stdout"
        }
      ]
    },
    {
      "cell_type": "code",
      "metadata": {
        "id": "nJe4EhJFIgqB"
      },
      "source": [
        "#function immediately exits when they come accross a return statement, even if it means that they won't return any value\n",
        "\n",
        "def example():\n",
        "  for x in range(10):\n",
        "    if x == 2:\n",
        "      return\n",
        "    print(\"Run!\")\n",
        "\n",
        "    example()"
      ],
      "execution_count": 24,
      "outputs": []
    },
    {
      "cell_type": "code",
      "metadata": {
        "id": "b-UL4YFPJX6W"
      },
      "source": [
        "def add(a,b):\n",
        "  SUM = a + b\n",
        "  return(SUM, a)\n",
        "  final_sum, a_value = add (5,10)\n",
        "  print(final_sum, a_value)"
      ],
      "execution_count": 27,
      "outputs": []
    },
    {
      "cell_type": "code",
      "metadata": {
        "colab": {
          "base_uri": "https://localhost:8080/"
        },
        "id": "n7sY5feiJBvz",
        "outputId": "6f5f598e-6ff0-407d-8607-ace45bb8ae55"
      },
      "source": [
        "def add(a,b):\n",
        "  SUM = a + b\n",
        "  return(SUM, a)\n",
        "value = add(5,10)\n",
        "print(value)"
      ],
      "execution_count": 25,
      "outputs": [
        {
          "output_type": "stream",
          "text": [
            "(15, 5)\n"
          ],
          "name": "stdout"
        }
      ]
    },
    {
      "cell_type": "markdown",
      "metadata": {
        "id": "om7gsx7SJv5h"
      },
      "source": [
        "Docstring in Functions "
      ]
    },
    {
      "cell_type": "code",
      "metadata": {
        "colab": {
          "base_uri": "https://localhost:8080/",
          "height": 153
        },
        "id": "yd3xh6KUJzdH",
        "outputId": "485c3be1-a74c-4bbd-9611-1ca48da0e281"
      },
      "source": [
        "def hello():\n",
        "\"\"\"Print \"Hello World\".\n",
        "\n",
        "  Returns:\n",
        "    None\n",
        "    \"\"\"\n",
        "\n",
        "    print(\"Hello World\")\n",
        "    return:"
      ],
      "execution_count": 35,
      "outputs": [
        {
          "output_type": "error",
          "ename": "IndentationError",
          "evalue": "ignored",
          "traceback": [
            "\u001b[0;36m  File \u001b[0;32m\"<ipython-input-35-5d02e1213de6>\"\u001b[0;36m, line \u001b[0;32m6\u001b[0m\n\u001b[0;31m    \"\"\"\u001b[0m\n\u001b[0m       \n^\u001b[0m\n\u001b[0;31mIndentationError\u001b[0m\u001b[0;31m:\u001b[0m expected an indented block\n"
          ]
        }
      ]
    },
    {
      "cell_type": "markdown",
      "metadata": {
        "id": "yZ1iDWnoKVwU"
      },
      "source": [
        "Default Arguments"
      ]
    },
    {
      "cell_type": "code",
      "metadata": {
        "colab": {
          "base_uri": "https://localhost:8080/"
        },
        "id": "BeAFfkRHKfWW",
        "outputId": "57f093ae-cabe-4d64-e218-6c75c0cab2df"
      },
      "source": [
        "def hello(name=\"world\"):\n",
        "  print(\"Hello \" + name)\n",
        "\n",
        "hello()"
      ],
      "execution_count": 37,
      "outputs": [
        {
          "output_type": "stream",
          "text": [
            "Hello world\n"
          ],
          "name": "stdout"
        }
      ]
    },
    {
      "cell_type": "code",
      "metadata": {
        "colab": {
          "base_uri": "https://localhost:8080/"
        },
        "id": "ZYU8h4_3K1TL",
        "outputId": "952eefe1-e252-4de5-af11-391c0eacb94e"
      },
      "source": [
        "def hello(name=\"world\"):\n",
        "  print(\"Hello \" + name)\n",
        "\n",
        "hello(\"Python\")"
      ],
      "execution_count": 38,
      "outputs": [
        {
          "output_type": "stream",
          "text": [
            "Hello Python\n"
          ],
          "name": "stdout"
        }
      ]
    },
    {
      "cell_type": "code",
      "metadata": {
        "colab": {
          "base_uri": "https://localhost:8080/"
        },
        "id": "_VmyynvkK5P7",
        "outputId": "773aa1bf-1057-4c2f-9a68-cf173e5d9917"
      },
      "source": [
        "def maximum(a,b,c=12):\n",
        "  return max(a,b,c)\n",
        "\n",
        "maximum(10,11)"
      ],
      "execution_count": 39,
      "outputs": [
        {
          "output_type": "execute_result",
          "data": {
            "text/plain": [
              "12"
            ]
          },
          "metadata": {
            "tags": []
          },
          "execution_count": 39
        }
      ]
    },
    {
      "cell_type": "code",
      "metadata": {
        "colab": {
          "base_uri": "https://localhost:8080/",
          "height": 135
        },
        "id": "9rM882xELKkX",
        "outputId": "807210bc-7d0d-46ee-ffaa-f2a1dff9eab2"
      },
      "source": [
        "def maximum(a,b=12,c):\n",
        "  return max(a,b,c)\n",
        "\n",
        "maximum(10,11,15)"
      ],
      "execution_count": 42,
      "outputs": [
        {
          "output_type": "error",
          "ename": "SyntaxError",
          "evalue": "ignored",
          "traceback": [
            "\u001b[0;36m  File \u001b[0;32m\"<ipython-input-42-c9dffcfb46dc>\"\u001b[0;36m, line \u001b[0;32m1\u001b[0m\n\u001b[0;31m    def maximum(a,b=12,c):\u001b[0m\n\u001b[0m               ^\u001b[0m\n\u001b[0;31mSyntaxError\u001b[0m\u001b[0;31m:\u001b[0m non-default argument follows default argument\n"
          ]
        }
      ]
    },
    {
      "cell_type": "code",
      "metadata": {
        "colab": {
          "base_uri": "https://localhost:8080/"
        },
        "id": "_cTxE6RyLQtY",
        "outputId": "dd9843a3-db1d-4dd1-fb17-1158767735b3"
      },
      "source": [
        "def maximum(a,c,b=12):\n",
        "  return max(a,b,c)\n",
        "\n",
        "maximum(10,11)"
      ],
      "execution_count": 41,
      "outputs": [
        {
          "output_type": "execute_result",
          "data": {
            "text/plain": [
              "12"
            ]
          },
          "metadata": {
            "tags": []
          },
          "execution_count": 41
        }
      ]
    },
    {
      "cell_type": "markdown",
      "metadata": {
        "id": "ib50bAK4LgNW"
      },
      "source": [
        "Arguments :\n",
        "1. Default Arguments \n",
        "2. Required Arguments\n",
        "3. Key word Arguments "
      ]
    },
    {
      "cell_type": "code",
      "metadata": {
        "id": "oOFmtYSWLpKu"
      },
      "source": [
        "# Define 'pluse()' function\n",
        "def pluse(a,b):\n",
        "  print(b)\n",
        "  return"
      ],
      "execution_count": null,
      "outputs": []
    }
  ]
}