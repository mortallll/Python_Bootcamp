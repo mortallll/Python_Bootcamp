{
  "nbformat": 4,
  "nbformat_minor": 0,
  "metadata": {
    "colab": {
      "name": "Upskill_Lecture2.ipynb",
      "provenance": [],
      "collapsed_sections": []
    },
    "kernelspec": {
      "name": "python3",
      "display_name": "Python 3"
    },
    "language_info": {
      "name": "python"
    }
  },
  "cells": [
    {
      "cell_type": "markdown",
      "metadata": {
        "id": "0g7ShLDYkJa7"
      },
      "source": [
        "## Functions in  🤩\n",
        "\n",
        "\n",
        "\n",
        "![picture](https://drive.google.com/uc?export=view&id=15iXn4kShW8XToLAQd4pgWceK_oAM0Mf2)"
      ]
    },
    {
      "cell_type": "code",
      "metadata": {
        "id": "Hr-VNjqoDr4M"
      },
      "source": [
        ""
      ],
      "execution_count": null,
      "outputs": []
    },
    {
      "cell_type": "code",
      "metadata": {
        "id": "T8sjR-RdDsVR"
      },
      "source": [
        ""
      ],
      "execution_count": null,
      "outputs": []
    },
    {
      "cell_type": "code",
      "metadata": {
        "id": "es9IAnl4Ds1K"
      },
      "source": [
        ""
      ],
      "execution_count": null,
      "outputs": []
    },
    {
      "cell_type": "markdown",
      "metadata": {
        "id": "B_G6TPLxl_-j"
      },
      "source": [
        "In simple terms flow of control is the order in which the operations are performed. Suppose you need to boil water. What will you do? "
      ]
    },
    {
      "cell_type": "code",
      "metadata": {
        "id": "XHM5_bhWDtO4"
      },
      "source": [
        ""
      ],
      "execution_count": null,
      "outputs": []
    },
    {
      "cell_type": "code",
      "metadata": {
        "id": "eh8F3-NJxgLs"
      },
      "source": [
        "Steps you will follow:-\n",
        "1) Take a utensil\n",
        "2) Fill in water\n",
        "3) Light the gas stove\n",
        "4) Place the water on the stove for boliling\n",
        "5) Wait till boliling\n",
        "6) When Boiling starts you will stop the stove"
      ],
      "execution_count": null,
      "outputs": []
    },
    {
      "cell_type": "markdown",
      "metadata": {
        "id": "Gszm87EJzr8N"
      },
      "source": [
        "# Types of Control Flow"
      ]
    },
    {
      "cell_type": "markdown",
      "metadata": {
        "id": "tEdP0Euz0FTN"
      },
      "source": [
        "## 3 Types of Control flow is there\n",
        "- Sequential\n",
        "- Selection\n",
        "- Iterative or Repetition"
      ]
    },
    {
      "cell_type": "markdown",
      "metadata": {
        "id": "WtpXKZc03HJh"
      },
      "source": [
        "## Sequential Statements - In these type of statements the process happens one after another. "
      ]
    },
    {
      "cell_type": "code",
      "metadata": {
        "id": "V8tjC96ENEDh"
      },
      "source": [
        "# Find the sum of 2 numbers\n"
      ],
      "execution_count": null,
      "outputs": []
    },
    {
      "cell_type": "markdown",
      "metadata": {
        "id": "t_OscwNj312e"
      },
      "source": [
        "** Observations **\n",
        "1. The compiler starts to interpret the program from top to bottom\n",
        "2. If there is an error in a line the compilation stops as it is sequential flow"
      ]
    },
    {
      "cell_type": "markdown",
      "metadata": {
        "id": "uKR8ZMwe4cYN"
      },
      "source": [
        "# Selection Statements \n",
        "In these statements a particular operation is carried out based on the condition. If the condition is fulfilled, that operation would take place and if not then some other user define operation would take place.\n",
        " \n",
        " \n",
        "<img src=\"https://drive.google.com/uc?export=view&id=1sALyw6GnKlvEt1_TiTSK_KOnS93njC9Q\" width=500px>"
      ]
    },
    {
      "cell_type": "code",
      "metadata": {
        "colab": {
          "base_uri": "https://localhost:8080/"
        },
        "id": "FlNmr9lxO2o7",
        "outputId": "80839287-9783-462f-a280-30a79e646a3e"
      },
      "source": [
        "# Check if a person is eligible for voting in India\n",
        " \n",
        "age = int(input(\" Enter your age: \"))\n",
        "if age>18:\n",
        "  print(\"Eligible for voting\")"
      ],
      "execution_count": null,
      "outputs": [
        {
          "output_type": "stream",
          "text": [
            " Enter your age: 23\n",
            "Eligible for voting\n"
          ],
          "name": "stdout"
        }
      ]
    },
    {
      "cell_type": "markdown",
      "metadata": {
        "id": "KtArQpZS9atC"
      },
      "source": [
        "**Else Condition**\n",
        "\n",
        "What if you are asked to check a condition and perfrom a certasin operation and tell the output in both cases, i.e even if condition is true and even it is false?\n",
        "\n",
        "<img src=\"https://drive.google.com/uc?export=view&id=1mu6rbhKoPV4CT5l8z0BHB7m98LOOzA9U\" width=500px>"
      ]
    },
    {
      "cell_type": "code",
      "metadata": {
        "id": "K-78_Rxy6p6t"
      },
      "source": [
        "# Check whehter a number is odd or even\n",
        "\n",
        "number = int(input(\" Enter number: \"))\n",
        "if number % 2 == 0:\n",
        "  print(\"Even Number\")\n",
        "else:\n",
        "  print(\"Odd Number\")"
      ],
      "execution_count": null,
      "outputs": []
    },
    {
      "cell_type": "markdown",
      "metadata": {
        "id": "62-J4BTP63o7"
      },
      "source": [
        "**Observations**\n",
        "1. It is not necessary to always use \"else\" statement.\n",
        "2. \"else\" statement dont take any condition and represents all other possibilites other than \"if\" statement."
      ]
    },
    {
      "cell_type": "markdown",
      "metadata": {
        "id": "-4BlAu5Z-pdz"
      },
      "source": [
        "## if-elif condition\n",
        "Suppose there is a 3rd Possibility as well 😕. In that case if-elif statements are used\n",
        "\n",
        "<img src=\"https://drive.google.com/uc?export=view&id=1L_70qvlgKY2wIFFDM1LogzYluYQL21IY\" width=500px>"
      ]
    },
    {
      "cell_type": "code",
      "metadata": {
        "id": "bES9I9wA8R3G"
      },
      "source": [
        "# You want to find the greater of 2 numbers.\n",
        "\n",
        "x= 20\n",
        "y= 10\n",
        "\n",
        "if x>y:\n",
        "  print(f\"{x} is greater than {y}\")\n",
        "else:\n",
        "  print(f\"{y} is greater than {x}\")\n"
      ],
      "execution_count": null,
      "outputs": []
    },
    {
      "cell_type": "markdown",
      "metadata": {
        "id": "TtWSi0pSBPaQ"
      },
      "source": [
        "## Nested if statements\n",
        "\n",
        "When inside a condition we have to check another condition, we use nested if statements.\n",
        "\n",
        "<img src=\"https://drive.google.com/uc?export=view&id=1Z_hrOP737_AW6pfy7QQ1B5FqA843IzJ5\" width=350px>"
      ]
    },
    {
      "cell_type": "code",
      "metadata": {
        "colab": {
          "base_uri": "https://localhost:8080/"
        },
        "id": "M42djUjFBj0j",
        "outputId": "d5846dc6-8832-40f7-da64-b05de529ad6f"
      },
      "source": [
        "a = 5\n",
        "b = 10\n",
        "c = 10\n",
        "if a > b:\n",
        "   if a > c:\n",
        "      print(\"a value is big\")\n",
        "   else:\n",
        "       print(\"c value is big\")\n",
        "elif b > c:\n",
        "    print(\"b value is big\")\n",
        "else:\n",
        "     print(\"c is big\")"
      ],
      "execution_count": null,
      "outputs": [
        {
          "output_type": "stream",
          "text": [
            "c is big\n"
          ],
          "name": "stdout"
        }
      ]
    },
    {
      "cell_type": "code",
      "metadata": {
        "id": "DxPZLvHcCueH"
      },
      "source": [
        ""
      ],
      "execution_count": null,
      "outputs": []
    },
    {
      "cell_type": "markdown",
      "metadata": {
        "id": "K-8NMwZqB2y8"
      },
      "source": [
        "# Looping Statements"
      ]
    },
    {
      "cell_type": "markdown",
      "metadata": {
        "id": "D_A1dbL4Cu0l"
      },
      "source": [
        "They are repetitive statements. The repetition is done based on a condition.\n",
        "\n",
        "if condition is satisfied -> continue repeating\n",
        "\n",
        "if condition failed -> stop repeating"
      ]
    },
    {
      "cell_type": "markdown",
      "metadata": {
        "id": "MDXS14CsDWek"
      },
      "source": [
        "## for loop\n",
        "\n",
        "This loop is mainly used to repeat over a sequence like a range of numbers until the range mentioned is covered."
      ]
    },
    {
      "cell_type": "code",
      "metadata": {
        "colab": {
          "base_uri": "https://localhost:8080/"
        },
        "id": "At84DWmmvmk_",
        "outputId": "cdc4b613-fbfd-4e68-c31f-f5f7ae1677e2"
      },
      "source": [
        "# How to write a for loop\n",
        "for i in range(1,10):\n",
        "  print(i)"
      ],
      "execution_count": null,
      "outputs": [
        {
          "output_type": "stream",
          "text": [
            "1\n",
            "2\n",
            "3\n",
            "4\n",
            "5\n",
            "6\n",
            "7\n",
            "8\n",
            "9\n"
          ],
          "name": "stdout"
        }
      ]
    },
    {
      "cell_type": "markdown",
      "metadata": {
        "id": "rGraSE49ED-H"
      },
      "source": [
        "**Observations**\n",
        "1. The last number of the range is excluded. ]\n",
        "2. By default the variable increase by 1."
      ]
    },
    {
      "cell_type": "code",
      "metadata": {
        "colab": {
          "base_uri": "https://localhost:8080/"
        },
        "id": "rNgV6xYliy71",
        "outputId": "851bbdbb-9118-4503-cc4e-b2a4475994e5"
      },
      "source": [
        "# Suppose we want to increase the loop variable by any other value\n",
        "# For that we have the step size.\n",
        "\n",
        "for i in range(1,10,2):\n",
        "  print(i)"
      ],
      "execution_count": null,
      "outputs": [
        {
          "output_type": "stream",
          "text": [
            "1\n",
            "3\n",
            "5\n",
            "7\n",
            "9\n"
          ],
          "name": "stdout"
        }
      ]
    },
    {
      "cell_type": "markdown",
      "metadata": {
        "id": "aUDlg02Ajunv"
      },
      "source": [
        "Going in reverse"
      ]
    },
    {
      "cell_type": "code",
      "metadata": {
        "id": "aDDg3XF2jdL5"
      },
      "source": [
        "for i in range (10,1):\n",
        "  print(i) "
      ],
      "execution_count": null,
      "outputs": []
    },
    {
      "cell_type": "code",
      "metadata": {
        "id": "NLKfJoe-jpLr"
      },
      "source": [
        "for i in range (10,1,-1):\n",
        "  print(i)"
      ],
      "execution_count": null,
      "outputs": []
    },
    {
      "cell_type": "markdown",
      "metadata": {
        "id": "ylgnY8FAj1Id"
      },
      "source": [
        "#### Note: If the step size is positive, The start index < ending index\n",
        "#### Note: If the step size is negative, The start index > ending index"
      ]
    },
    {
      "cell_type": "code",
      "metadata": {
        "id": "JH4PDfSCkenk"
      },
      "source": [
        "for i in range ( 1,10,-1):\n",
        "  print(i)"
      ],
      "execution_count": null,
      "outputs": []
    },
    {
      "cell_type": "code",
      "metadata": {
        "id": "YY_xk375kk-R"
      },
      "source": [
        "for i in range ( 10,1,1):\n",
        "  print(i)"
      ],
      "execution_count": null,
      "outputs": []
    },
    {
      "cell_type": "markdown",
      "metadata": {
        "id": "N6dzFdL3ikmx"
      },
      "source": [
        "### Suppose you are asked to print this equence using for loop\n",
        "1 3 5 7 9"
      ]
    },
    {
      "cell_type": "code",
      "metadata": {
        "id": "nRWfO0VGii1C"
      },
      "source": [
        "for i in range (1,10,2):\n",
        "  print(i, end=\" \")"
      ],
      "execution_count": null,
      "outputs": []
    },
    {
      "cell_type": "markdown",
      "metadata": {
        "id": "DQhaWPcvEWpa"
      },
      "source": [
        "## while loop\n",
        "\n",
        "It also repeats but it is based on a condition. So until the condition is fulfilled this will repeat."
      ]
    },
    {
      "cell_type": "code",
      "metadata": {
        "colab": {
          "base_uri": "https://localhost:8080/"
        },
        "id": "ExSHK4DQE64P",
        "outputId": "a0e57d65-1243-473e-f441-4e25ff27ec24"
      },
      "source": [
        "i=1\n",
        "while (i<10):\n",
        "  print(i)\n",
        "  i+=1"
      ],
      "execution_count": null,
      "outputs": [
        {
          "output_type": "stream",
          "text": [
            "1\n",
            "2\n",
            "3\n",
            "4\n",
            "5\n",
            "6\n",
            "7\n",
            "8\n",
            "9\n"
          ],
          "name": "stdout"
        }
      ]
    },
    {
      "cell_type": "markdown",
      "metadata": {
        "id": "j9zOuzGKFBMP"
      },
      "source": [
        "**Observations**\n",
        "1. We have to initialise the loop variable before loop in while loop.\n",
        "2. Inside the while loop we have to change or modify the value of loop variable, but in for loop it is done by the loop itself."
      ]
    },
    {
      "cell_type": "markdown",
      "metadata": {
        "id": "3BiWt5qKly5P"
      },
      "source": [
        "# Loop Control Statements"
      ]
    },
    {
      "cell_type": "markdown",
      "metadata": {
        "id": "EX1dZ7qAl3fj"
      },
      "source": [
        "### break statement\n",
        "<img src=\"https://drive.google.com/uc?export=view&id=1nMg1t9SxfrHOBA9jMVR4c_pOkeOW9ttV\" width=350px>\n",
        "\n",
        "\n",
        "\n",
        "When you put a break statement in the body of a loop, the loop stops executing, and control shifts to the first statement outside it."
      ]
    },
    {
      "cell_type": "code",
      "metadata": {
        "id": "dnQTX8ctmMJl"
      },
      "source": [
        "for i in range(1,10):\n",
        "        print(i)\n",
        "        if i== 5:\n",
        "          break\n",
        "print(\" We are out of loop\")"
      ],
      "execution_count": null,
      "outputs": []
    },
    {
      "cell_type": "markdown",
      "metadata": {
        "id": "wF0EJ8V9mdqq"
      },
      "source": [
        "When we use break the control jumps out of the innermost loop to the immediate outer loop. All the statements below the break are not executed."
      ]
    },
    {
      "cell_type": "code",
      "metadata": {
        "id": "xGaa4K6Dm6oa"
      },
      "source": [
        "for i in range(1,10):\n",
        "        print(i)\n",
        "        if i== 5:\n",
        "          break\n",
        "        print(\"Hello\")\n",
        "print(\" We are out of loop\")"
      ],
      "execution_count": null,
      "outputs": []
    },
    {
      "cell_type": "code",
      "metadata": {
        "id": "zoescxJ1nAfv"
      },
      "source": [
        "for i in range(1,3):\n",
        "  for j in range(1,5):\n",
        "    if(j==3):\n",
        "      break\n",
        "    print(j)"
      ],
      "execution_count": null,
      "outputs": []
    },
    {
      "cell_type": "markdown",
      "metadata": {
        "id": "fPhfMAwrnSbn"
      },
      "source": [
        "### continue statement"
      ]
    },
    {
      "cell_type": "markdown",
      "metadata": {
        "id": "geryxccqnWg8"
      },
      "source": [
        "When the program control reaches the continue statement, it skips the statements after ‘continue’. But it doesnt come out of the loop."
      ]
    },
    {
      "cell_type": "code",
      "metadata": {
        "id": "fj0_oFzwnatd"
      },
      "source": [
        "i=0\n",
        "while (i<8):\n",
        "  i+=1\n",
        "  if(i==5):\n",
        "    continue\n",
        "  print(i)\n",
        "      "
      ],
      "execution_count": null,
      "outputs": []
    },
    {
      "cell_type": "code",
      "metadata": {
        "id": "HM8PXNp-nqS3"
      },
      "source": [
        "for i in range(1,3):\n",
        "  for j in range(1,5):\n",
        "    if(j==3):\n",
        "      continue\n",
        "    print(j)"
      ],
      "execution_count": null,
      "outputs": []
    },
    {
      "cell_type": "markdown",
      "metadata": {
        "id": "GjUI7hwKFojA"
      },
      "source": [
        "## Infinite Loops"
      ]
    },
    {
      "cell_type": "code",
      "metadata": {
        "id": "H-d3XtoaFrJI"
      },
      "source": [
        "i=1\n",
        "while (i<10):\n",
        "  print(i)"
      ],
      "execution_count": null,
      "outputs": []
    },
    {
      "cell_type": "code",
      "metadata": {
        "id": "4tSRE8WnmOAB"
      },
      "source": [
        "while True:\n",
        "  print(\"Python\")"
      ],
      "execution_count": null,
      "outputs": []
    },
    {
      "cell_type": "markdown",
      "metadata": {
        "id": "UiCD-0KHG0PQ"
      },
      "source": [
        "# Pattern programs\n",
        "\n",
        "Image dalninhai"
      ]
    },
    {
      "cell_type": "code",
      "metadata": {
        "id": "WKTNbQQNJCGd"
      },
      "source": [
        "\"\"\"\n",
        "*  \n",
        "\n",
        "* *  \n",
        "\n",
        "* * *  \n",
        "\n",
        "* * * *  \n",
        "\n",
        "* * * * *\n",
        "\n",
        "\"\"\""
      ],
      "execution_count": null,
      "outputs": []
    },
    {
      "cell_type": "code",
      "metadata": {
        "colab": {
          "base_uri": "https://localhost:8080/"
        },
        "id": "U4RRSF8MHTaQ",
        "outputId": "563aa1fa-5e37-4c47-b2d5-a35de7791585"
      },
      "source": [
        "rows = 6\n",
        "\n",
        "for num in range(rows):\n",
        "\n",
        "    for i in range(num):\n",
        "\n",
        "        print(\"*\", end=\" \") # print number\n",
        "\n",
        "    # line after each row to display pattern correctly\n",
        "\n",
        "    print(\" \")"
      ],
      "execution_count": null,
      "outputs": [
        {
          "output_type": "stream",
          "text": [
            " \n",
            "*  \n",
            "* *  \n",
            "* * *  \n",
            "* * * *  \n",
            "* * * * *  \n"
          ],
          "name": "stdout"
        }
      ]
    },
    {
      "cell_type": "markdown",
      "metadata": {
        "id": "_49R0MKWIpNd"
      },
      "source": [
        "1  \n",
        "\n",
        "2 2  \n",
        "\n",
        "3 3 3  \n",
        "\n",
        "4 4 4 4  \n",
        "\n",
        "5 5 5 5 5"
      ]
    },
    {
      "cell_type": "code",
      "metadata": {
        "id": "iA9PqfyzIghb"
      },
      "source": [
        "rows = 6\n",
        "\n",
        "for num in range(rows):\n",
        "\n",
        "    for i in range(num):\n",
        "\n",
        "        print(\"*\", end=\" \") # print number\n",
        "\n",
        "    # line after each row to display pattern correctly\n",
        "\n",
        "    print(\" \")"
      ],
      "execution_count": null,
      "outputs": []
    },
    {
      "cell_type": "markdown",
      "metadata": {
        "id": "CMVxea1VJ9a2"
      },
      "source": [
        "1  \n",
        "\n",
        "1 2  \n",
        "\n",
        "1 2 3  \n",
        "\n",
        "1 2 3 4  \n",
        "\n",
        "1 2 3 4 5"
      ]
    },
    {
      "cell_type": "code",
      "metadata": {
        "colab": {
          "base_uri": "https://localhost:8080/"
        },
        "id": "uNEXWnkCJonQ",
        "outputId": "55f22f2f-4d69-4c8d-9719-5f8685858a89"
      },
      "source": [
        "for i in range(0, 5):\n",
        "  num = 1\n",
        "  for j in range(0, i+1):\n",
        "    print(num, end=\" \")\n",
        "    num = num + 1\n",
        "  print()"
      ],
      "execution_count": null,
      "outputs": [
        {
          "output_type": "stream",
          "text": [
            "1 \n",
            "1 2 \n",
            "1 2 3 \n",
            "1 2 3 4 \n",
            "1 2 3 4 5 \n"
          ],
          "name": "stdout"
        }
      ]
    }
  ]
}